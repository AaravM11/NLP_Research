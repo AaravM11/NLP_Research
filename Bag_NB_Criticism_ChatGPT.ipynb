{
  "cells": [
    {
      "cell_type": "markdown",
      "metadata": {
        "id": "view-in-github",
        "colab_type": "text"
      },
      "source": [
        "<a href=\"https://colab.research.google.com/github/AaravM11/NLP_Research/blob/main/Bag_NB_Criticism_ChatGPT.ipynb\" target=\"_parent\"><img src=\"https://colab.research.google.com/assets/colab-badge.svg\" alt=\"Open In Colab\"/></a>"
      ]
    },
    {
      "cell_type": "code",
      "execution_count": null,
      "metadata": {
        "colab": {
          "background_save": true
        },
        "id": "OcePw1MBLJyM"
      },
      "outputs": [],
      "source": [
        "#import packages, data loading\n",
        "\n",
        "import pandas as pd\n",
        "import nltk\n",
        "import re\n",
        "import numpy as np\n",
        "import matplotlib.pyplot as plt\n",
        "import seaborn as sns\n",
        "from sklearn.model_selection import train_test_split\n",
        "import tensorflow as tf\n",
        "from tensorflow.keras.models import Sequential\n",
        "from tensorflow.keras.layers import Dense, Activation\n",
        "from sklearn import preprocessing\n",
        "\n",
        "df = pd.read_csv(\"/content/drive/MyDrive/Sentiment Analysis/chatgpt.csv\")\n",
        "\n",
        "\n",
        "df = df.loc[:, ~df.columns.str.contains('^Unnamed')]"
      ]
    },
    {
      "cell_type": "code",
      "execution_count": null,
      "metadata": {
        "colab": {
          "background_save": true,
          "base_uri": "https://localhost:8080/",
          "height": 206
        },
        "id": "5Ka1Did0Ik3k",
        "outputId": "092bb142-9419-46d1-f472-0d190985a4b8"
      },
      "outputs": [
        {
          "data": {
            "text/html": [
              "\n",
              "  <div id=\"df-3948eec2-4030-460b-bb1a-fd239a063091\" class=\"colab-df-container\">\n",
              "    <div>\n",
              "<style scoped>\n",
              "    .dataframe tbody tr th:only-of-type {\n",
              "        vertical-align: middle;\n",
              "    }\n",
              "\n",
              "    .dataframe tbody tr th {\n",
              "        vertical-align: top;\n",
              "    }\n",
              "\n",
              "    .dataframe thead th {\n",
              "        text-align: right;\n",
              "    }\n",
              "</style>\n",
              "<table border=\"1\" class=\"dataframe\">\n",
              "  <thead>\n",
              "    <tr style=\"text-align: right;\">\n",
              "      <th></th>\n",
              "      <th>tweets</th>\n",
              "      <th>labels</th>\n",
              "    </tr>\n",
              "  </thead>\n",
              "  <tbody>\n",
              "    <tr>\n",
              "      <th>0</th>\n",
              "      <td>ChatGPT: Optimizing Language Models for Dialog...</td>\n",
              "      <td>neutral</td>\n",
              "    </tr>\n",
              "    <tr>\n",
              "      <th>1</th>\n",
              "      <td>Try talking with ChatGPT, our new AI system wh...</td>\n",
              "      <td>good</td>\n",
              "    </tr>\n",
              "    <tr>\n",
              "      <th>2</th>\n",
              "      <td>ChatGPT: Optimizing Language Models for Dialog...</td>\n",
              "      <td>neutral</td>\n",
              "    </tr>\n",
              "    <tr>\n",
              "      <th>3</th>\n",
              "      <td>THRILLED to share that ChatGPT, our new model ...</td>\n",
              "      <td>good</td>\n",
              "    </tr>\n",
              "    <tr>\n",
              "      <th>4</th>\n",
              "      <td>As of 2 minutes ago, @OpenAI released their ne...</td>\n",
              "      <td>bad</td>\n",
              "    </tr>\n",
              "  </tbody>\n",
              "</table>\n",
              "</div>\n",
              "    <div class=\"colab-df-buttons\">\n",
              "\n",
              "  <div class=\"colab-df-container\">\n",
              "    <button class=\"colab-df-convert\" onclick=\"convertToInteractive('df-3948eec2-4030-460b-bb1a-fd239a063091')\"\n",
              "            title=\"Convert this dataframe to an interactive table.\"\n",
              "            style=\"display:none;\">\n",
              "\n",
              "  <svg xmlns=\"http://www.w3.org/2000/svg\" height=\"24px\" viewBox=\"0 -960 960 960\">\n",
              "    <path d=\"M120-120v-720h720v720H120Zm60-500h600v-160H180v160Zm220 220h160v-160H400v160Zm0 220h160v-160H400v160ZM180-400h160v-160H180v160Zm440 0h160v-160H620v160ZM180-180h160v-160H180v160Zm440 0h160v-160H620v160Z\"/>\n",
              "  </svg>\n",
              "    </button>\n",
              "\n",
              "  <style>\n",
              "    .colab-df-container {\n",
              "      display:flex;\n",
              "      gap: 12px;\n",
              "    }\n",
              "\n",
              "    .colab-df-convert {\n",
              "      background-color: #E8F0FE;\n",
              "      border: none;\n",
              "      border-radius: 50%;\n",
              "      cursor: pointer;\n",
              "      display: none;\n",
              "      fill: #1967D2;\n",
              "      height: 32px;\n",
              "      padding: 0 0 0 0;\n",
              "      width: 32px;\n",
              "    }\n",
              "\n",
              "    .colab-df-convert:hover {\n",
              "      background-color: #E2EBFA;\n",
              "      box-shadow: 0px 1px 2px rgba(60, 64, 67, 0.3), 0px 1px 3px 1px rgba(60, 64, 67, 0.15);\n",
              "      fill: #174EA6;\n",
              "    }\n",
              "\n",
              "    .colab-df-buttons div {\n",
              "      margin-bottom: 4px;\n",
              "    }\n",
              "\n",
              "    [theme=dark] .colab-df-convert {\n",
              "      background-color: #3B4455;\n",
              "      fill: #D2E3FC;\n",
              "    }\n",
              "\n",
              "    [theme=dark] .colab-df-convert:hover {\n",
              "      background-color: #434B5C;\n",
              "      box-shadow: 0px 1px 3px 1px rgba(0, 0, 0, 0.15);\n",
              "      filter: drop-shadow(0px 1px 2px rgba(0, 0, 0, 0.3));\n",
              "      fill: #FFFFFF;\n",
              "    }\n",
              "  </style>\n",
              "\n",
              "    <script>\n",
              "      const buttonEl =\n",
              "        document.querySelector('#df-3948eec2-4030-460b-bb1a-fd239a063091 button.colab-df-convert');\n",
              "      buttonEl.style.display =\n",
              "        google.colab.kernel.accessAllowed ? 'block' : 'none';\n",
              "\n",
              "      async function convertToInteractive(key) {\n",
              "        const element = document.querySelector('#df-3948eec2-4030-460b-bb1a-fd239a063091');\n",
              "        const dataTable =\n",
              "          await google.colab.kernel.invokeFunction('convertToInteractive',\n",
              "                                                    [key], {});\n",
              "        if (!dataTable) return;\n",
              "\n",
              "        const docLinkHtml = 'Like what you see? Visit the ' +\n",
              "          '<a target=\"_blank\" href=https://colab.research.google.com/notebooks/data_table.ipynb>data table notebook</a>'\n",
              "          + ' to learn more about interactive tables.';\n",
              "        element.innerHTML = '';\n",
              "        dataTable['output_type'] = 'display_data';\n",
              "        await google.colab.output.renderOutput(dataTable, element);\n",
              "        const docLink = document.createElement('div');\n",
              "        docLink.innerHTML = docLinkHtml;\n",
              "        element.appendChild(docLink);\n",
              "      }\n",
              "    </script>\n",
              "  </div>\n",
              "\n",
              "\n",
              "<div id=\"df-a30fa8c7-785f-4518-a0ab-90da00ed5ac1\">\n",
              "  <button class=\"colab-df-quickchart\" onclick=\"quickchart('df-a30fa8c7-785f-4518-a0ab-90da00ed5ac1')\"\n",
              "            title=\"Suggest charts.\"\n",
              "            style=\"display:none;\">\n",
              "\n",
              "<svg xmlns=\"http://www.w3.org/2000/svg\" height=\"24px\"viewBox=\"0 0 24 24\"\n",
              "     width=\"24px\">\n",
              "    <g>\n",
              "        <path d=\"M19 3H5c-1.1 0-2 .9-2 2v14c0 1.1.9 2 2 2h14c1.1 0 2-.9 2-2V5c0-1.1-.9-2-2-2zM9 17H7v-7h2v7zm4 0h-2V7h2v10zm4 0h-2v-4h2v4z\"/>\n",
              "    </g>\n",
              "</svg>\n",
              "  </button>\n",
              "\n",
              "<style>\n",
              "  .colab-df-quickchart {\n",
              "    background-color: #E8F0FE;\n",
              "    border: none;\n",
              "    border-radius: 50%;\n",
              "    cursor: pointer;\n",
              "    display: none;\n",
              "    fill: #1967D2;\n",
              "    height: 32px;\n",
              "    padding: 0 0 0 0;\n",
              "    width: 32px;\n",
              "  }\n",
              "\n",
              "  .colab-df-quickchart:hover {\n",
              "    background-color: #E2EBFA;\n",
              "    box-shadow: 0px 1px 2px rgba(60, 64, 67, 0.3), 0px 1px 3px 1px rgba(60, 64, 67, 0.15);\n",
              "    fill: #174EA6;\n",
              "  }\n",
              "\n",
              "  [theme=dark] .colab-df-quickchart {\n",
              "    background-color: #3B4455;\n",
              "    fill: #D2E3FC;\n",
              "  }\n",
              "\n",
              "  [theme=dark] .colab-df-quickchart:hover {\n",
              "    background-color: #434B5C;\n",
              "    box-shadow: 0px 1px 3px 1px rgba(0, 0, 0, 0.15);\n",
              "    filter: drop-shadow(0px 1px 2px rgba(0, 0, 0, 0.3));\n",
              "    fill: #FFFFFF;\n",
              "  }\n",
              "</style>\n",
              "\n",
              "  <script>\n",
              "    async function quickchart(key) {\n",
              "      const charts = await google.colab.kernel.invokeFunction(\n",
              "          'suggestCharts', [key], {});\n",
              "    }\n",
              "    (() => {\n",
              "      let quickchartButtonEl =\n",
              "        document.querySelector('#df-a30fa8c7-785f-4518-a0ab-90da00ed5ac1 button');\n",
              "      quickchartButtonEl.style.display =\n",
              "        google.colab.kernel.accessAllowed ? 'block' : 'none';\n",
              "    })();\n",
              "  </script>\n",
              "</div>\n",
              "    </div>\n",
              "  </div>\n"
            ],
            "text/plain": [
              "                                              tweets   labels\n",
              "0  ChatGPT: Optimizing Language Models for Dialog...  neutral\n",
              "1  Try talking with ChatGPT, our new AI system wh...     good\n",
              "2  ChatGPT: Optimizing Language Models for Dialog...  neutral\n",
              "3  THRILLED to share that ChatGPT, our new model ...     good\n",
              "4  As of 2 minutes ago, @OpenAI released their ne...      bad"
            ]
          },
          "execution_count": 2,
          "metadata": {},
          "output_type": "execute_result"
        }
      ],
      "source": [
        "df.head()"
      ]
    },
    {
      "cell_type": "code",
      "execution_count": null,
      "metadata": {
        "colab": {
          "background_save": true
        },
        "id": "7g5Vg1oSLSyW"
      },
      "outputs": [],
      "source": [
        "# clean the tweets\n",
        "\n",
        "tweets = df[\"tweets\"].values\n",
        "cleaned_tweets = []\n",
        "\n",
        "import re\n",
        "\n",
        "for tweet in tweets:\n",
        "  tweet2 = re.sub(r'^RT[\\s]+', '', tweet)\n",
        "  tweet2 = re.sub('http://\\S+|https://\\S+', '', tweet2)\n",
        "  tweet2 = re.sub('http[s]?://\\S+', '', tweet2)\n",
        "  tweet2 = re.sub(r\"http\\S+\", \"\", tweet2)\n",
        "  tweet2 = re.sub(r'#', '', tweet2)\n",
        "  cleaned_tweets.append(tweet2)\n",
        "\n",
        "for i in range(len(tweets)):\n",
        "  tweets[i] = cleaned_tweets[i]\n",
        "\n",
        "original_tweets = tweets\n"
      ]
    },
    {
      "cell_type": "code",
      "execution_count": null,
      "metadata": {
        "colab": {
          "background_save": true
        },
        "id": "6cBJubnyLVRf"
      },
      "outputs": [],
      "source": [
        "# initialize criticism phrases\n",
        "\n",
        "criticism_phrases = [\n",
        "    \"Not convinced by\",\n",
        "    \"Vulnerable to criticism\",\n",
        "    \"Disapprove of\",\n",
        "    \"Take a critical stance on\",\n",
        "    \"Not impressed\",\n",
        "    \"Meh\",\n",
        "    \"Disappointed\",\n",
        "    \"Not cool\",\n",
        "    \"Not buying it\",\n",
        "    \"Seriously?\",\n",
        "    \"Not okay\",\n",
        "    \"Kinda sketchy\",\n",
        "    \"Raise an eyebrow\",\n",
        "    \"Not feeling it\",\n",
        "    \"Not a fan\",\n",
        "    \"Eh, nope\",\n",
        "    \"Bit of a letdown\",\n",
        "    \"Questionable move\",\n",
        "    \"Hmm, doubtful\",\n",
        "    \"Skeptical about\",\n",
        "    \"Lacking substance\",\n",
        "    \"Seems off\",\n",
        "    \"Could do better\",\n",
        "    \"Expected more\",\n",
        "    \"Unimpressive\",\n",
        "    \"Flimsy excuse\",\n",
        "    \"Not quite there\",\n",
        "    \"Bit underwhelming\",\n",
        "    \"Not sold on this\",\n",
        "    \"Seems fishy\",\n",
        "    \"Missed the mark\",\n",
        "    \"Not vibing with\",\n",
        "    \"Bit of a fail\",\n",
        "    \"Didn't hit home\",\n",
        "    \"However\",\n",
        "    \"Unfortunately\",\n",
        "    \"Flaw\",\n",
        "    \"Issue\",\n",
        "    \"Problematic\",\n",
        "    \"Concerning\",\n",
        "    \"Inadequate\",\n",
        "    \"Lack\",\n",
        "    \"Mistake\",\n",
        "    \"Weakness\",\n",
        "    \"Failure\",\n",
        "    \"Shortcoming\",\n",
        "    \"Not up to par\",\n",
        "    \"Falls short\",\n",
        "    \"Disappointing\",\n",
        "    \"Unsatisfactory\",\n",
        "    \"Fault\",\n",
        "    \"Critique\",\n",
        "    \"Condemn\",\n",
        "    \"Object\",\n",
        "    \"Dissatisfying\",\n",
        "    \"Underwhelming\",\n",
        "    \"Not well-executed\",\n",
        "    \"Questionable\",\n",
        "    \"Criticize\",\n",
        "    \"Challenge\",\n",
        "    \"Rebuke\",\n",
        "    \"Negative aspect\",\n",
        "    \"Drawback\",\n",
        "    \"Debatable\",\n",
        "    \"Criticism\",\n",
        "    \"Censure\",\n",
        "    \"Knock\",\n",
        "    \"Denounce\",\n",
        "    \"Faultfinding\",\n",
        "    \"Reprove\",\n",
        "    \"Upbraiding\",\n",
        "    \"Reprimand\",\n",
        "    \"Blame\",\n",
        "    \"Reproach\",\n",
        "    \"Chide\",\n",
        "    \"Attack\",\n",
        "    \"Nitpick\",\n",
        "    \"Find fault with\",\n",
        "    \"Take issue with\",\n",
        "    \"Object to\",\n",
        "    \"Complain about\",\n",
        "    \"Berate\",\n",
        "    \"Castigate\",\n",
        "    \"Decry\"\n",
        "]"
      ]
    },
    {
      "cell_type": "code",
      "execution_count": null,
      "metadata": {
        "colab": {
          "background_save": true,
          "base_uri": "https://localhost:8080/"
        },
        "id": "VCSA26HYLdQC",
        "outputId": "1a5341f0-30d3-4cfd-f8f5-9470f8428ba3"
      },
      "outputs": [
        {
          "data": {
            "text/plain": [
              "array([None, None, None, ..., None, None, None], dtype=object)"
            ]
          },
          "execution_count": 5,
          "metadata": {},
          "output_type": "execute_result"
        }
      ],
      "source": [
        "# empty criticism labels array\n",
        "\n",
        "criticism_labels = np.empty(df.shape[0], dtype=object)\n",
        "criticism_labels\n"
      ]
    },
    {
      "cell_type": "code",
      "execution_count": null,
      "metadata": {
        "colab": {
          "background_save": true,
          "base_uri": "https://localhost:8080/"
        },
        "id": "_GJ2mPRVLg2I",
        "outputId": "c0f22137-82ce-4822-ed24-52e6e4698a8a"
      },
      "outputs": [
        {
          "name": "stderr",
          "output_type": "stream",
          "text": [
            "[nltk_data] Downloading package punkt to /root/nltk_data...\n",
            "[nltk_data]   Unzipping tokenizers/punkt.zip.\n"
          ]
        }
      ],
      "source": [
        "# tokenizing all the samples\n",
        "\n",
        "import nltk\n",
        "nltk.download('punkt')\n",
        "from nltk.tokenize import word_tokenize\n",
        "\n",
        "for i in range(len(tweets)):\n",
        "  tweets[i] = word_tokenize(tweets[i])"
      ]
    },
    {
      "cell_type": "code",
      "execution_count": null,
      "metadata": {
        "colab": {
          "background_save": true,
          "base_uri": "https://localhost:8080/"
        },
        "id": "OccITK5WXv1O",
        "outputId": "ce375152-1d4c-4c16-97d3-2bc6c61c29db"
      },
      "outputs": [
        {
          "name": "stdout",
          "output_type": "stream",
          "text": [
            "Not convinced by\n"
          ]
        }
      ],
      "source": [
        "print(criticism_phrases[0])"
      ]
    },
    {
      "cell_type": "code",
      "execution_count": null,
      "metadata": {
        "colab": {
          "background_save": true,
          "base_uri": "https://localhost:8080/"
        },
        "id": "QTRqAPFzNo89",
        "outputId": "c1471c5a-4edc-4a65-e1c1-2fbd1ad82fbf"
      },
      "outputs": [
        {
          "data": {
            "text/plain": [
              "[['Not', 'convinced', 'by'],\n",
              " ['Vulnerable', 'to', 'criticism'],\n",
              " ['Disapprove', 'of'],\n",
              " ['Take', 'a', 'critical', 'stance', 'on'],\n",
              " ['Not', 'impressed'],\n",
              " ['Meh'],\n",
              " ['Disappointed'],\n",
              " ['Not', 'cool'],\n",
              " ['Not', 'buying', 'it'],\n",
              " ['Seriously', '?'],\n",
              " ['Not', 'okay'],\n",
              " ['Kinda', 'sketchy'],\n",
              " ['Raise', 'an', 'eyebrow'],\n",
              " ['Not', 'feeling', 'it'],\n",
              " ['Not', 'a', 'fan'],\n",
              " ['Eh', ',', 'nope'],\n",
              " ['Bit', 'of', 'a', 'letdown'],\n",
              " ['Questionable', 'move'],\n",
              " ['Hmm', ',', 'doubtful'],\n",
              " ['Skeptical', 'about'],\n",
              " ['Lacking', 'substance'],\n",
              " ['Seems', 'off'],\n",
              " ['Could', 'do', 'better'],\n",
              " ['Expected', 'more'],\n",
              " ['Unimpressive'],\n",
              " ['Flimsy', 'excuse'],\n",
              " ['Not', 'quite', 'there'],\n",
              " ['Bit', 'underwhelming'],\n",
              " ['Not', 'sold', 'on', 'this'],\n",
              " ['Seems', 'fishy'],\n",
              " ['Missed', 'the', 'mark'],\n",
              " ['Not', 'vibing', 'with'],\n",
              " ['Bit', 'of', 'a', 'fail'],\n",
              " ['Did', \"n't\", 'hit', 'home'],\n",
              " ['However'],\n",
              " ['Unfortunately'],\n",
              " ['Flaw'],\n",
              " ['Issue'],\n",
              " ['Problematic'],\n",
              " ['Concerning'],\n",
              " ['Inadequate'],\n",
              " ['Lack'],\n",
              " ['Mistake'],\n",
              " ['Weakness'],\n",
              " ['Failure'],\n",
              " ['Shortcoming'],\n",
              " ['Not', 'up', 'to', 'par'],\n",
              " ['Falls', 'short'],\n",
              " ['Disappointing'],\n",
              " ['Unsatisfactory'],\n",
              " ['Fault'],\n",
              " ['Critique'],\n",
              " ['Condemn'],\n",
              " ['Object'],\n",
              " ['Dissatisfying'],\n",
              " ['Underwhelming'],\n",
              " ['Not', 'well-executed'],\n",
              " ['Questionable'],\n",
              " ['Criticize'],\n",
              " ['Challenge'],\n",
              " ['Rebuke'],\n",
              " ['Negative', 'aspect'],\n",
              " ['Drawback'],\n",
              " ['Debatable'],\n",
              " ['Criticism'],\n",
              " ['Censure'],\n",
              " ['Knock'],\n",
              " ['Denounce'],\n",
              " ['Faultfinding'],\n",
              " ['Reprove'],\n",
              " ['Upbraiding'],\n",
              " ['Reprimand'],\n",
              " ['Blame'],\n",
              " ['Reproach'],\n",
              " ['Chide'],\n",
              " ['Attack'],\n",
              " ['Nitpick'],\n",
              " ['Find', 'fault', 'with'],\n",
              " ['Take', 'issue', 'with'],\n",
              " ['Object', 'to'],\n",
              " ['Complain', 'about'],\n",
              " ['Berate'],\n",
              " ['Castigate'],\n",
              " ['Decry']]"
            ]
          },
          "execution_count": 8,
          "metadata": {},
          "output_type": "execute_result"
        }
      ],
      "source": [
        "# tokenizing all the of the criticism phrases\n",
        "\n",
        "for i in range(len(criticism_phrases)):\n",
        "  criticism_phrases[i] = word_tokenize(criticism_phrases[i])\n",
        "\n",
        "\n",
        "criticism_phrases"
      ]
    },
    {
      "cell_type": "code",
      "execution_count": null,
      "metadata": {
        "colab": {
          "background_save": true
        },
        "id": "wrcT2vbKN_tM"
      },
      "outputs": [],
      "source": [
        "# stemming criticism phrases\n",
        "\n",
        "from nltk.stem import PorterStemmer\n",
        "\n",
        "stemmer = PorterStemmer()\n",
        "\n",
        "stemmed_tweets = []\n",
        "for tweet in criticism_phrases:\n",
        "  stemmed_tweet = []\n",
        "  for word in tweet:\n",
        "    new_word = stemmer.stem(word)\n",
        "    stemmed_tweet.append(new_word)\n",
        "  stemmed_tweets.append(stemmed_tweet)\n",
        "\n",
        "for i in range(len(criticism_phrases)):\n",
        "  criticism_phrases[i] = stemmed_tweets[i]"
      ]
    },
    {
      "cell_type": "code",
      "execution_count": null,
      "metadata": {
        "colab": {
          "background_save": true
        },
        "id": "_iWxqp8PLnSE"
      },
      "outputs": [],
      "source": [
        "# stemming all the samples\n",
        "\n",
        "from nltk.stem import PorterStemmer\n",
        "\n",
        "stemmer = PorterStemmer()\n",
        "\n",
        "stemmed_tweets = []\n",
        "for tweet in tweets:\n",
        "  stemmed_tweet = []\n",
        "  for word in tweet:\n",
        "    new_word = stemmer.stem(word)\n",
        "    stemmed_tweet.append(new_word)\n",
        "  stemmed_tweets.append(stemmed_tweet)\n",
        "\n",
        "for i in range(len(tweets)):\n",
        "  tweets[i] = stemmed_tweets[i]"
      ]
    },
    {
      "cell_type": "code",
      "execution_count": null,
      "metadata": {
        "colab": {
          "background_save": true,
          "base_uri": "https://localhost:8080/"
        },
        "id": "47VNubrDX69d",
        "outputId": "5e2d708a-6d03-410b-bb13-b779f20bfa9a"
      },
      "outputs": [
        {
          "name": "stdout",
          "output_type": "stream",
          "text": [
            "[list(['chatgpt', ':', 'optim', 'languag', 'model', 'for', 'dialogu', '@', 'openai'])\n",
            " list(['tri', 'talk', 'with', 'chatgpt', ',', 'our', 'new', 'ai', 'system', 'which', 'is', 'optim', 'for', 'dialogu', '.', 'your', 'feedback', 'will', 'help', 'us', 'improv', 'it', '.'])\n",
            " list(['chatgpt', ':', 'optim', 'languag', 'model', 'for', 'dialogu', 'ai', 'machinelearn', 'datasci', 'artificialintelligence\\\\n\\\\ntrend', 'ai/ml', 'articl', 'identifi', '&', 'amp', ';', 'digest', 'via', 'granola', ';', 'a', 'machine-driven', 'rss', 'bot', 'by', 'ramsey', 'elbash'])\n",
            " ...\n",
            " list(['chatgpt', 'is', 'be', 'disassembl', 'until', 'it', 'can', 'onli', 'dissembl'])\n",
            " list(['2023', 'predict', 'by', 'chatgpt', '.', 'noth', 'realli', 'specif', ',', 'just', 'some', 'trend', 'from', 'the', 'past', 'year', '.', '\\\\nshould', 'be', 'around', 'thi', 'topic', ',', 'we', 'will', 'see', 'in', '364', 'day', '🎉'])\n",
            " list(['from', 'chatgpt', ',', 'neat', 'stuff'])]\n",
            "[['not', 'convinc', 'by'], ['vulner', 'to', 'critic'], ['disapprov', 'of'], ['take', 'a', 'critic', 'stanc', 'on'], ['not', 'impress'], ['meh'], ['disappoint'], ['not', 'cool'], ['not', 'buy', 'it'], ['serious', '?'], ['not', 'okay'], ['kinda', 'sketchi'], ['rais', 'an', 'eyebrow'], ['not', 'feel', 'it'], ['not', 'a', 'fan'], ['eh', ',', 'nope'], ['bit', 'of', 'a', 'letdown'], ['question', 'move'], ['hmm', ',', 'doubt'], ['skeptic', 'about'], ['lack', 'substanc'], ['seem', 'off'], ['could', 'do', 'better'], ['expect', 'more'], ['unimpress'], ['flimsi', 'excus'], ['not', 'quit', 'there'], ['bit', 'underwhelm'], ['not', 'sold', 'on', 'thi'], ['seem', 'fishi'], ['miss', 'the', 'mark'], ['not', 'vibe', 'with'], ['bit', 'of', 'a', 'fail'], ['did', \"n't\", 'hit', 'home'], ['howev'], ['unfortun'], ['flaw'], ['issu'], ['problemat'], ['concern'], ['inadequ'], ['lack'], ['mistak'], ['weak'], ['failur'], ['shortcom'], ['not', 'up', 'to', 'par'], ['fall', 'short'], ['disappoint'], ['unsatisfactori'], ['fault'], ['critiqu'], ['condemn'], ['object'], ['dissatisfi'], ['underwhelm'], ['not', 'well-execut'], ['question'], ['critic'], ['challeng'], ['rebuk'], ['neg', 'aspect'], ['drawback'], ['debat'], ['critic'], ['censur'], ['knock'], ['denounc'], ['faultfind'], ['reprov'], ['upbraid'], ['reprimand'], ['blame'], ['reproach'], ['chide'], ['attack'], ['nitpick'], ['find', 'fault', 'with'], ['take', 'issu', 'with'], ['object', 'to'], ['complain', 'about'], ['berat'], ['castig'], ['decri']]\n"
          ]
        }
      ],
      "source": [
        "print(tweets)\n",
        "print(criticism_phrases)"
      ]
    },
    {
      "cell_type": "code",
      "execution_count": null,
      "metadata": {
        "colab": {
          "background_save": true
        },
        "id": "8fwpFHxlM76c"
      },
      "outputs": [],
      "source": [
        "# detokenizing all the samples\n",
        "\n",
        "from nltk.tokenize.treebank import TreebankWordDetokenizer\n",
        "\n",
        "detokenizer = TreebankWordDetokenizer()\n",
        "\n",
        "for i in range(len(tweets)):\n",
        "  tweets[i] = detokenizer.detokenize(tweets[i])"
      ]
    },
    {
      "cell_type": "code",
      "execution_count": null,
      "metadata": {
        "colab": {
          "background_save": true
        },
        "id": "4AeYJzBNO3XJ"
      },
      "outputs": [],
      "source": [
        "# detokenizing all the criticism phrases\n",
        "\n",
        "for i in range(len(criticism_phrases)):\n",
        "  criticism_phrases[i] = detokenizer.detokenize(criticism_phrases[i])"
      ]
    },
    {
      "cell_type": "code",
      "execution_count": null,
      "metadata": {
        "colab": {
          "background_save": true,
          "base_uri": "https://localhost:8080/"
        },
        "id": "aktqbjyWYbVE",
        "outputId": "295e4e7b-0f34-4303-8119-27726f62079f"
      },
      "outputs": [
        {
          "name": "stdout",
          "output_type": "stream",
          "text": [
            "['chatgpt: optim languag model for dialogu @ openai'\n",
            " 'tri talk with chatgpt, our new ai system which is optim for dialogu . your feedback will help us improv it.'\n",
            " 'chatgpt: optim languag model for dialogu ai machinelearn datasci artificialintelligence\\\\n\\\\ntrend ai/ml articl identifi & amp; digest via granola; a machine-driven rss bot by ramsey elbash'\n",
            " ... 'chatgpt is be disassembl until it can onli dissembl'\n",
            " '2023 predict by chatgpt . noth realli specif, just some trend from the past year . \\\\nshould be around thi topic, we will see in 364 day 🎉'\n",
            " 'from chatgpt, neat stuff']\n",
            "['not convinc by', 'vulner to critic', 'disapprov of', 'take a critic stanc on', 'not impress', 'meh', 'disappoint', 'not cool', 'not buy it', 'serious?', 'not okay', 'kinda sketchi', 'rais an eyebrow', 'not feel it', 'not a fan', 'eh, nope', 'bit of a letdown', 'question move', 'hmm, doubt', 'skeptic about', 'lack substanc', 'seem off', 'could do better', 'expect more', 'unimpress', 'flimsi excus', 'not quit there', 'bit underwhelm', 'not sold on thi', 'seem fishi', 'miss the mark', 'not vibe with', 'bit of a fail', \"didn't hit home\", 'howev', 'unfortun', 'flaw', 'issu', 'problemat', 'concern', 'inadequ', 'lack', 'mistak', 'weak', 'failur', 'shortcom', 'not up to par', 'fall short', 'disappoint', 'unsatisfactori', 'fault', 'critiqu', 'condemn', 'object', 'dissatisfi', 'underwhelm', 'not well-execut', 'question', 'critic', 'challeng', 'rebuk', 'neg aspect', 'drawback', 'debat', 'critic', 'censur', 'knock', 'denounc', 'faultfind', 'reprov', 'upbraid', 'reprimand', 'blame', 'reproach', 'chide', 'attack', 'nitpick', 'find fault with', 'take issu with', 'object to', 'complain about', 'berat', 'castig', 'decri']\n"
          ]
        }
      ],
      "source": [
        "print(tweets)\n",
        "print(criticism_phrases)"
      ]
    },
    {
      "cell_type": "code",
      "execution_count": null,
      "metadata": {
        "colab": {
          "background_save": true,
          "base_uri": "https://localhost:8080/"
        },
        "id": "P1t2iu2tLfN8",
        "outputId": "e86e2b70-7333-4b7d-9e6c-7a5256059ac2"
      },
      "outputs": [
        {
          "name": "stdout",
          "output_type": "stream",
          "text": [
            "219294\n"
          ]
        }
      ],
      "source": [
        "# initializing criticism array labels\n",
        "\n",
        "new_criticism_labels = []\n",
        "\n",
        "for i in range(len(criticism_labels)):\n",
        "    found = False\n",
        "\n",
        "    for phrase in criticism_phrases:\n",
        "        if phrase in tweets[i]:\n",
        "            new_criticism_labels.append(1)\n",
        "            found = True\n",
        "            break\n",
        "\n",
        "    if not found:\n",
        "        new_criticism_labels.append(0)\n",
        "criticism_labels = new_criticism_labels\n",
        "\n",
        "print(len(criticism_labels))"
      ]
    },
    {
      "cell_type": "code",
      "execution_count": null,
      "metadata": {
        "colab": {
          "background_save": true,
          "base_uri": "https://localhost:8080/"
        },
        "id": "ycfiS1B_ZPbd",
        "outputId": "15d23eb0-fa5d-421f-de69-2f9282ce94f2"
      },
      "outputs": [
        {
          "name": "stdout",
          "output_type": "stream",
          "text": [
            "219294\n"
          ]
        }
      ],
      "source": [
        "print(len(criticism_labels))"
      ]
    },
    {
      "cell_type": "markdown",
      "metadata": {
        "id": "uoOFXlvnPdrO"
      },
      "source": [
        "[link text](`https://`)"
      ]
    },
    {
      "cell_type": "code",
      "execution_count": null,
      "metadata": {
        "colab": {
          "background_save": true
        },
        "id": "lpLQ5DNMPeQM"
      },
      "outputs": [],
      "source": [
        "tweets = original_tweets"
      ]
    },
    {
      "cell_type": "code",
      "execution_count": null,
      "metadata": {
        "colab": {
          "background_save": true,
          "base_uri": "https://localhost:8080/"
        },
        "id": "87OmLH8h8ra7",
        "outputId": "7de781e3-85fa-4302-f31f-de0f539bb0aa"
      },
      "outputs": [
        {
          "name": "stderr",
          "output_type": "stream",
          "text": [
            "[nltk_data] Downloading package punkt to /root/nltk_data...\n",
            "[nltk_data]   Package punkt is already up-to-date!\n"
          ]
        }
      ],
      "source": [
        "# tokenizing all the samples\n",
        "\n",
        "import nltk\n",
        "nltk.download('punkt')\n",
        "from nltk.tokenize import word_tokenize\n",
        "\n",
        "for i in range(len(tweets)):\n",
        "  tweets[i] = word_tokenize(tweets[i])"
      ]
    },
    {
      "cell_type": "code",
      "execution_count": null,
      "metadata": {
        "colab": {
          "background_save": true,
          "base_uri": "https://localhost:8080/"
        },
        "id": "PmTfHbw28sAK",
        "outputId": "85e2a2db-84f0-4aa0-a38e-8c20eb079d88"
      },
      "outputs": [
        {
          "name": "stderr",
          "output_type": "stream",
          "text": [
            "[nltk_data] Downloading package stopwords to /root/nltk_data...\n",
            "[nltk_data]   Unzipping corpora/stopwords.zip.\n"
          ]
        }
      ],
      "source": [
        "# importing stopwords\n",
        "\n",
        "nltk.download(\"stopwords\")\n",
        "from nltk.corpus import stopwords\n",
        "import string"
      ]
    },
    {
      "cell_type": "code",
      "execution_count": null,
      "metadata": {
        "colab": {
          "background_save": true,
          "base_uri": "https://localhost:8080/"
        },
        "id": "ziO_t-BX8tep",
        "outputId": "b4c4d019-05ee-4874-e12f-33fb48bd93dd"
      },
      "outputs": [
        {
          "name": "stdout",
          "output_type": "stream",
          "text": [
            "{'both', 'from', 'shan', 'ourselves', 'm', 'wouldn', \"it's\", 'out', 'such', \"wasn't\", 'itself', 'been', 'the', 'against', \"don't\", 'whom', 'be', 'were', 'until', 'each', 'no', 'd', 'as', 'nor', 'your', 'now', 'again', 'so', 'in', 'into', 's', \"shouldn't\", 'between', 'hadn', 'up', 'his', \"couldn't\", 'have', 'further', 'won', 'where', 'an', 'wasn', 'how', 'themselves', \"should've\", \"wouldn't\", 'is', 'him', 'should', 'too', 'when', 'and', 'me', 'yourselves', 'any', 'we', 'own', 'has', \"you're\", 'all', \"mustn't\", 'hers', 'yourself', 'himself', 'i', 'there', 'that', \"mightn't\", \"didn't\", 'she', 'its', 'if', 'ain', 'doing', 'he', 'at', 'what', 'haven', 'those', 'after', 'was', 'while', 'below', 'are', 'aren', 'down', 'because', 'having', 'off', \"hasn't\", \"needn't\", 'don', 'they', \"doesn't\", 'can', 'needn', \"shan't\", 'do', 'you', 'than', 'y', 'which', 'mustn', 'these', 'couldn', \"haven't\", 't', 'above', \"hadn't\", 've', 'll', 'did', 'of', 'before', 'isn', 'our', 'my', 'here', 'mightn', 'most', 'same', 'other', \"won't\", 'then', 'on', 'very', 'her', 'or', 'through', 'shouldn', 'o', 'who', 'a', 'ours', 'only', 'ma', \"you'll\", 'some', \"isn't\", 'for', 'herself', \"weren't\", 'this', 're', \"she's\", 'had', 'yours', 'about', 'doesn', 'didn', 'weren', 'few', 'by', 'with', 'being', \"you've\", \"aren't\", 'myself', 'more', 'am', 'them', 'hasn', 'not', 'it', 'theirs', 'once', 'during', 'but', 'will', 'to', 'their', 'does', \"you'd\", 'over', 'why', \"that'll\", 'just', 'under'}\n"
          ]
        }
      ],
      "source": [
        "# removing stop words\n",
        "\n",
        "stop = set(stopwords.words('english'))\n",
        "print(stop)\n",
        "new_tweets = tweets\n",
        "new_tweets2 = []\n",
        "for tweet in new_tweets:\n",
        "  new_tweet = []\n",
        "  for word in tweet:\n",
        "    if (word not in stop and word not in string.punctuation):\n",
        "      new_tweet.append(word)\n",
        "  new_tweets2.append(new_tweet)\n",
        "\n",
        "\n",
        "for i in range(len(tweets)):\n",
        "  tweets[i] = new_tweets2[i]\n"
      ]
    },
    {
      "cell_type": "code",
      "execution_count": null,
      "metadata": {
        "colab": {
          "background_save": true
        },
        "id": "cxpILc1S8vfq"
      },
      "outputs": [],
      "source": [
        "# stemming all the samples\n",
        "\n",
        "from nltk.stem import PorterStemmer\n",
        "\n",
        "stemmer = PorterStemmer()\n",
        "\n",
        "stemmed_tweets = []\n",
        "for tweet in tweets:\n",
        "  stemmed_tweet = []\n",
        "  for word in tweet:\n",
        "    new_word = stemmer.stem(word)\n",
        "    stemmed_tweet.append(new_word)\n",
        "  stemmed_tweets.append(stemmed_tweet)\n",
        "\n",
        "for i in range(len(tweets)):\n",
        "  tweets[i] = stemmed_tweets[i]"
      ]
    },
    {
      "cell_type": "code",
      "execution_count": null,
      "metadata": {
        "colab": {
          "background_save": true
        },
        "id": "pQOhzLNn849y"
      },
      "outputs": [],
      "source": [
        "def build_freqs(tweets, labels):\n",
        "  freqs = {}\n",
        "  for i in range(len(labels)):\n",
        "    for word in tweets[i]:\n",
        "      pair = (word, labels[i])\n",
        "      if pair in freqs:\n",
        "        freqs[pair] += 1\n",
        "      else:\n",
        "          freqs[pair] = 1\n",
        "  return freqs\n"
      ]
    },
    {
      "cell_type": "code",
      "execution_count": null,
      "metadata": {
        "id": "hfOpo81W87Pc"
      },
      "outputs": [],
      "source": [
        "freqs = build_freqs(tweets, criticism_labels)"
      ]
    },
    {
      "cell_type": "code",
      "execution_count": null,
      "metadata": {
        "id": "OYEW91A089Wz"
      },
      "outputs": [],
      "source": [
        "X = np.zeros((len(tweets), 2))"
      ]
    },
    {
      "cell_type": "code",
      "execution_count": null,
      "metadata": {
        "id": "0Vpt1knI8_Sk"
      },
      "outputs": [],
      "source": [
        "def features(tweets,freqs):\n",
        "  for i in range(len(tweets)):\n",
        "    tweet = tweets[i]\n",
        "    for w in tweet:\n",
        "      if (w, 0) in freqs:\n",
        "        X[i, 0] = X[i, 0] + freqs[(w, 0)]\n",
        "      if (w, 1) in freqs:\n",
        "        X[i, 1] = X[i, 1] + freqs[(w, 1)]\n",
        "  return X"
      ]
    },
    {
      "cell_type": "code",
      "execution_count": null,
      "metadata": {
        "id": "6SU70Gme9Aus"
      },
      "outputs": [],
      "source": [
        "X = features(tweets, freqs)"
      ]
    },
    {
      "cell_type": "code",
      "execution_count": null,
      "metadata": {
        "id": "BPlEhmvM9CMt"
      },
      "outputs": [],
      "source": [
        "y = criticism_labels\n",
        "y = np.array(y)\n",
        "y = y.reshape(-1, 1)"
      ]
    },
    {
      "cell_type": "code",
      "execution_count": null,
      "metadata": {
        "id": "T6pPytgQ9ELh"
      },
      "outputs": [],
      "source": [
        "X_train, X_val, y_train, y_val = train_test_split(X,y,test_size = .25, random_state = 4)"
      ]
    },
    {
      "cell_type": "code",
      "execution_count": null,
      "metadata": {
        "colab": {
          "base_uri": "https://localhost:8080/"
        },
        "id": "GGKFigVi9Jbd",
        "outputId": "fe92567c-7984-47b5-99d8-bbf5fbef127b"
      },
      "outputs": [
        {
          "name": "stderr",
          "output_type": "stream",
          "text": [
            "/usr/local/lib/python3.10/dist-packages/sklearn/utils/validation.py:1143: DataConversionWarning: A column-vector y was passed when a 1d array was expected. Please change the shape of y to (n_samples, ), for example using ravel().\n",
            "  y = column_or_1d(y, warn=True)\n"
          ]
        }
      ],
      "source": [
        "from sklearn.naive_bayes import MultinomialNB\n",
        "clf = MultinomialNB().fit(X_train, y_train)"
      ]
    },
    {
      "cell_type": "code",
      "execution_count": null,
      "metadata": {
        "colab": {
          "base_uri": "https://localhost:8080/"
        },
        "id": "4vOi6APw9KJB",
        "outputId": "9469c836-2c68-41b0-d605-1998c13ad392"
      },
      "outputs": [
        {
          "name": "stdout",
          "output_type": "stream",
          "text": [
            "Validation Accuracy: 0.87\n"
          ]
        }
      ],
      "source": [
        "from sklearn.metrics import accuracy_score\n",
        "y_pred = clf.predict(X_val)\n",
        "\n",
        "accuracy = accuracy_score(y_val, y_pred)\n",
        "\n",
        "print(f\"Validation Accuracy: {accuracy:.2f}\")"
      ]
    },
    {
      "cell_type": "code",
      "execution_count": null,
      "metadata": {
        "colab": {
          "base_uri": "https://localhost:8080/"
        },
        "id": "HEZQkbSYCACS",
        "outputId": "facacdb3-22ea-4513-fe43-cdfb65291a22"
      },
      "outputs": [
        {
          "name": "stdout",
          "output_type": "stream",
          "text": [
            "              precision    recall  f1-score   support\n",
            "\n",
            "           0       0.90      0.96      0.93     47019\n",
            "           1       0.58      0.36      0.44      7805\n",
            "\n",
            "    accuracy                           0.87     54824\n",
            "   macro avg       0.74      0.66      0.69     54824\n",
            "weighted avg       0.85      0.87      0.86     54824\n",
            "\n"
          ]
        }
      ],
      "source": [
        "from sklearn.metrics import classification_report\n",
        "\n",
        "print(classification_report(y_val, y_pred))\n",
        "#bag of words naive bayes"
      ]
    },
    {
      "cell_type": "code",
      "execution_count": null,
      "metadata": {
        "id": "PpV3t_BoVtKI"
      },
      "outputs": [],
      "source": [
        "from sklearn.metrics import confusion_matrix\n",
        "\n",
        "conf_matrix = confusion_matrix(y_val, y_pred)\n",
        "\n",
        "# Set up the figure and axes\n",
        "plt.figure(figsize=(6, 6))\n",
        "sns.set(font_scale=1.2)\n",
        "sns.heatmap(conf_matrix, annot=True, fmt=\"d\", cmap=\"Blues\",\n",
        "            xticklabels=[\"Predicted Negative\", \"Predicted Positive\"],\n",
        "            yticklabels=[\"Actual Negative\", \"Actual Positive\"])\n",
        "\n",
        "plt.xlabel(\"Predicted\")\n",
        "plt.ylabel(\"Actual\")\n",
        "plt.title(\"Confusion Matrix (Bag-of-Words Naive Bayes)\")\n",
        "\n",
        "plt.show()"
      ]
    },
    {
      "cell_type": "code",
      "execution_count": null,
      "metadata": {
        "colab": {
          "base_uri": "https://localhost:8080/",
          "height": 597
        },
        "id": "R_V4ABqKZHj2",
        "outputId": "2b20c071-14e2-423a-ee02-be2aa41f6f5c"
      },
      "outputs": [
        {
          "data": {
            "image/png": "[encoded data removed]",
            "text/plain": [
              "<Figure size 640x480 with 1 Axes>"
            ]
          },
          "metadata": {},
          "output_type": "display_data"
        },
        {
          "name": "stdout",
          "output_type": "stream",
          "text": [
            "[[267854.  29212.]\n",
            " [264062.  28776.]\n",
            " [198736.  20638.]\n",
            " ...\n",
            " [195079.  19808.]\n",
            " [ 28166.   3967.]\n",
            " [199921.  20480.]]\n"
          ]
        }
      ],
      "source": [
        "import matplotlib.pyplot as plt\n",
        "\n",
        "plt.figure()\n",
        "plt.scatter(X_val[:,0], X_val[:,1], c=y_val)\n",
        "plt.xlabel(\"X_1\")\n",
        "plt.ylabel(\"X_2\")\n",
        "plt.title(\"Bag-Of-Words Naive Bayes Decision\")\n",
        "\n",
        "plt.show()\n",
        "\n",
        "print(X_val)"
      ]
    },
    {
      "cell_type": "code",
      "execution_count": null,
      "metadata": {
        "id": "lSbCe_EPsMr7"
      },
      "outputs": [],
      "source": []
    }
  ],
  "metadata": {
    "colab": {
      "provenance": [],
      "mount_file_id": "1IOipLcCjoZG0UF4WSLGVzvaL6_i8NpMS",
      "authorship_tag": "ABX9TyPkzQCNdTtdTvBoKEDItQGl",
      "include_colab_link": true
    },
    "kernelspec": {
      "display_name": "Python 3",
      "name": "python3"
    },
    "language_info": {
      "name": "python"
    }
  },
  "nbformat": 4,
  "nbformat_minor": 0
}