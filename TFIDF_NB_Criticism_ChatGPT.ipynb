{
  "cells": [
    {
      "cell_type": "markdown",
      "metadata": {
        "id": "view-in-github",
        "colab_type": "text"
      },
      "source": [
        "<a href=\"https://colab.research.google.com/github/AaravM11/NLP_Research/blob/main/TFIDF_NB_Criticism_ChatGPT.ipynb\" target=\"_parent\"><img src=\"https://colab.research.google.com/assets/colab-badge.svg\" alt=\"Open In Colab\"/></a>"
      ]
    },
    {
      "cell_type": "code",
      "execution_count": null,
      "metadata": {
        "id": "OcePw1MBLJyM"
      },
      "outputs": [],
      "source": [
        "#import packages, data loading\n",
        "\n",
        "import pandas as pd\n",
        "import nltk\n",
        "import re\n",
        "import numpy as np\n",
        "import matplotlib.pyplot as plt\n",
        "import seaborn as sns\n",
        "from sklearn.model_selection import train_test_split\n",
        "import tensorflow as tf\n",
        "from tensorflow.keras.models import Sequential\n",
        "from tensorflow.keras.layers import Dense, Activation\n",
        "from sklearn import preprocessing\n",
        "\n",
        "df = pd.read_csv(\"/content/drive/MyDrive/Sentiment Analysis/chatgpt.csv\")\n",
        "\n",
        "\n",
        "df = df.loc[:, ~df.columns.str.contains('^Unnamed')]"
      ]
    },
    {
      "cell_type": "code",
      "source": [
        "df.head()"
      ],
      "metadata": {
        "colab": {
          "base_uri": "https://localhost:8080/",
          "height": 206
        },
        "id": "5Ka1Did0Ik3k",
        "outputId": "19b0a518-f6f8-4d1f-bbe4-00c720ffca27"
      },
      "execution_count": null,
      "outputs": [
        {
          "output_type": "execute_result",
          "data": {
            "text/plain": [
              "                                              tweets   labels\n",
              "0  ChatGPT: Optimizing Language Models for Dialog...  neutral\n",
              "1  Try talking with ChatGPT, our new AI system wh...     good\n",
              "2  ChatGPT: Optimizing Language Models for Dialog...  neutral\n",
              "3  THRILLED to share that ChatGPT, our new model ...     good\n",
              "4  As of 2 minutes ago, @OpenAI released their ne...      bad"
            ],
            "text/html": [
              "\n",
              "  <div id=\"df-a97dd925-159f-4907-9d95-3260c1b14e39\" class=\"colab-df-container\">\n",
              "    <div>\n",
              "<style scoped>\n",
              "    .dataframe tbody tr th:only-of-type {\n",
              "        vertical-align: middle;\n",
              "    }\n",
              "\n",
              "    .dataframe tbody tr th {\n",
              "        vertical-align: top;\n",
              "    }\n",
              "\n",
              "    .dataframe thead th {\n",
              "        text-align: right;\n",
              "    }\n",
              "</style>\n",
              "<table border=\"1\" class=\"dataframe\">\n",
              "  <thead>\n",
              "    <tr style=\"text-align: right;\">\n",
              "      <th></th>\n",
              "      <th>tweets</th>\n",
              "      <th>labels</th>\n",
              "    </tr>\n",
              "  </thead>\n",
              "  <tbody>\n",
              "    <tr>\n",
              "      <th>0</th>\n",
              "      <td>ChatGPT: Optimizing Language Models for Dialog...</td>\n",
              "      <td>neutral</td>\n",
              "    </tr>\n",
              "    <tr>\n",
              "      <th>1</th>\n",
              "      <td>Try talking with ChatGPT, our new AI system wh...</td>\n",
              "      <td>good</td>\n",
              "    </tr>\n",
              "    <tr>\n",
              "      <th>2</th>\n",
              "      <td>ChatGPT: Optimizing Language Models for Dialog...</td>\n",
              "      <td>neutral</td>\n",
              "    </tr>\n",
              "    <tr>\n",
              "      <th>3</th>\n",
              "      <td>THRILLED to share that ChatGPT, our new model ...</td>\n",
              "      <td>good</td>\n",
              "    </tr>\n",
              "    <tr>\n",
              "      <th>4</th>\n",
              "      <td>As of 2 minutes ago, @OpenAI released their ne...</td>\n",
              "      <td>bad</td>\n",
              "    </tr>\n",
              "  </tbody>\n",
              "</table>\n",
              "</div>\n",
              "    <div class=\"colab-df-buttons\">\n",
              "\n",
              "  <div class=\"colab-df-container\">\n",
              "    <button class=\"colab-df-convert\" onclick=\"convertToInteractive('df-a97dd925-159f-4907-9d95-3260c1b14e39')\"\n",
              "            title=\"Convert this dataframe to an interactive table.\"\n",
              "            style=\"display:none;\">\n",
              "\n",
              "  <svg xmlns=\"http://www.w3.org/2000/svg\" height=\"24px\" viewBox=\"0 -960 960 960\">\n",
              "    <path d=\"M120-120v-720h720v720H120Zm60-500h600v-160H180v160Zm220 220h160v-160H400v160Zm0 220h160v-160H400v160ZM180-400h160v-160H180v160Zm440 0h160v-160H620v160ZM180-180h160v-160H180v160Zm440 0h160v-160H620v160Z\"/>\n",
              "  </svg>\n",
              "    </button>\n",
              "\n",
              "  <style>\n",
              "    .colab-df-container {\n",
              "      display:flex;\n",
              "      gap: 12px;\n",
              "    }\n",
              "\n",
              "    .colab-df-convert {\n",
              "      background-color: #E8F0FE;\n",
              "      border: none;\n",
              "      border-radius: 50%;\n",
              "      cursor: pointer;\n",
              "      display: none;\n",
              "      fill: #1967D2;\n",
              "      height: 32px;\n",
              "      padding: 0 0 0 0;\n",
              "      width: 32px;\n",
              "    }\n",
              "\n",
              "    .colab-df-convert:hover {\n",
              "      background-color: #E2EBFA;\n",
              "      box-shadow: 0px 1px 2px rgba(60, 64, 67, 0.3), 0px 1px 3px 1px rgba(60, 64, 67, 0.15);\n",
              "      fill: #174EA6;\n",
              "    }\n",
              "\n",
              "    .colab-df-buttons div {\n",
              "      margin-bottom: 4px;\n",
              "    }\n",
              "\n",
              "    [theme=dark] .colab-df-convert {\n",
              "      background-color: #3B4455;\n",
              "      fill: #D2E3FC;\n",
              "    }\n",
              "\n",
              "    [theme=dark] .colab-df-convert:hover {\n",
              "      background-color: #434B5C;\n",
              "      box-shadow: 0px 1px 3px 1px rgba(0, 0, 0, 0.15);\n",
              "      filter: drop-shadow(0px 1px 2px rgba(0, 0, 0, 0.3));\n",
              "      fill: #FFFFFF;\n",
              "    }\n",
              "  </style>\n",
              "\n",
              "    <script>\n",
              "      const buttonEl =\n",
              "        document.querySelector('#df-a97dd925-159f-4907-9d95-3260c1b14e39 button.colab-df-convert');\n",
              "      buttonEl.style.display =\n",
              "        google.colab.kernel.accessAllowed ? 'block' : 'none';\n",
              "\n",
              "      async function convertToInteractive(key) {\n",
              "        const element = document.querySelector('#df-a97dd925-159f-4907-9d95-3260c1b14e39');\n",
              "        const dataTable =\n",
              "          await google.colab.kernel.invokeFunction('convertToInteractive',\n",
              "                                                    [key], {});\n",
              "        if (!dataTable) return;\n",
              "\n",
              "        const docLinkHtml = 'Like what you see? Visit the ' +\n",
              "          '<a target=\"_blank\" href=https://colab.research.google.com/notebooks/data_table.ipynb>data table notebook</a>'\n",
              "          + ' to learn more about interactive tables.';\n",
              "        element.innerHTML = '';\n",
              "        dataTable['output_type'] = 'display_data';\n",
              "        await google.colab.output.renderOutput(dataTable, element);\n",
              "        const docLink = document.createElement('div');\n",
              "        docLink.innerHTML = docLinkHtml;\n",
              "        element.appendChild(docLink);\n",
              "      }\n",
              "    </script>\n",
              "  </div>\n",
              "\n",
              "\n",
              "<div id=\"df-a5bbd8ae-e4b0-4eb9-ad2d-4ce3f330702b\">\n",
              "  <button class=\"colab-df-quickchart\" onclick=\"quickchart('df-a5bbd8ae-e4b0-4eb9-ad2d-4ce3f330702b')\"\n",
              "            title=\"Suggest charts.\"\n",
              "            style=\"display:none;\">\n",
              "\n",
              "<svg xmlns=\"http://www.w3.org/2000/svg\" height=\"24px\"viewBox=\"0 0 24 24\"\n",
              "     width=\"24px\">\n",
              "    <g>\n",
              "        <path d=\"M19 3H5c-1.1 0-2 .9-2 2v14c0 1.1.9 2 2 2h14c1.1 0 2-.9 2-2V5c0-1.1-.9-2-2-2zM9 17H7v-7h2v7zm4 0h-2V7h2v10zm4 0h-2v-4h2v4z\"/>\n",
              "    </g>\n",
              "</svg>\n",
              "  </button>\n",
              "\n",
              "<style>\n",
              "  .colab-df-quickchart {\n",
              "    background-color: #E8F0FE;\n",
              "    border: none;\n",
              "    border-radius: 50%;\n",
              "    cursor: pointer;\n",
              "    display: none;\n",
              "    fill: #1967D2;\n",
              "    height: 32px;\n",
              "    padding: 0 0 0 0;\n",
              "    width: 32px;\n",
              "  }\n",
              "\n",
              "  .colab-df-quickchart:hover {\n",
              "    background-color: #E2EBFA;\n",
              "    box-shadow: 0px 1px 2px rgba(60, 64, 67, 0.3), 0px 1px 3px 1px rgba(60, 64, 67, 0.15);\n",
              "    fill: #174EA6;\n",
              "  }\n",
              "\n",
              "  [theme=dark] .colab-df-quickchart {\n",
              "    background-color: #3B4455;\n",
              "    fill: #D2E3FC;\n",
              "  }\n",
              "\n",
              "  [theme=dark] .colab-df-quickchart:hover {\n",
              "    background-color: #434B5C;\n",
              "    box-shadow: 0px 1px 3px 1px rgba(0, 0, 0, 0.15);\n",
              "    filter: drop-shadow(0px 1px 2px rgba(0, 0, 0, 0.3));\n",
              "    fill: #FFFFFF;\n",
              "  }\n",
              "</style>\n",
              "\n",
              "  <script>\n",
              "    async function quickchart(key) {\n",
              "      const charts = await google.colab.kernel.invokeFunction(\n",
              "          'suggestCharts', [key], {});\n",
              "    }\n",
              "    (() => {\n",
              "      let quickchartButtonEl =\n",
              "        document.querySelector('#df-a5bbd8ae-e4b0-4eb9-ad2d-4ce3f330702b button');\n",
              "      quickchartButtonEl.style.display =\n",
              "        google.colab.kernel.accessAllowed ? 'block' : 'none';\n",
              "    })();\n",
              "  </script>\n",
              "</div>\n",
              "    </div>\n",
              "  </div>\n"
            ]
          },
          "metadata": {},
          "execution_count": 2
        }
      ]
    },
    {
      "cell_type": "code",
      "execution_count": null,
      "metadata": {
        "id": "7g5Vg1oSLSyW"
      },
      "outputs": [],
      "source": [
        "# clean the tweets\n",
        "\n",
        "tweets = df[\"tweets\"].values\n",
        "cleaned_tweets = []\n",
        "\n",
        "import re\n",
        "\n",
        "for tweet in tweets:\n",
        "  tweet2 = re.sub(r'^RT[\\s]+', '', tweet)\n",
        "  tweet2 = re.sub('http://\\S+|https://\\S+', '', tweet2)\n",
        "  tweet2 = re.sub('http[s]?://\\S+', '', tweet2)\n",
        "  tweet2 = re.sub(r\"http\\S+\", \"\", tweet2)\n",
        "  tweet2 = re.sub(r'#', '', tweet2)\n",
        "  cleaned_tweets.append(tweet2)\n",
        "\n",
        "for i in range(len(tweets)):\n",
        "  tweets[i] = cleaned_tweets[i]\n",
        "\n",
        "original_tweets = tweets\n"
      ]
    },
    {
      "cell_type": "code",
      "execution_count": null,
      "metadata": {
        "id": "6cBJubnyLVRf"
      },
      "outputs": [],
      "source": [
        "# initialize criticism phrases\n",
        "\n",
        "criticism_phrases = [\n",
        "    \"Not convinced by\",\n",
        "    \"Vulnerable to criticism\",\n",
        "    \"Disapprove of\",\n",
        "    \"Take a critical stance on\",\n",
        "    \"Not impressed\",\n",
        "    \"Meh\",\n",
        "    \"Disappointed\",\n",
        "    \"Not cool\",\n",
        "    \"Not buying it\",\n",
        "    \"Seriously?\",\n",
        "    \"Not okay\",\n",
        "    \"Kinda sketchy\",\n",
        "    \"Raise an eyebrow\",\n",
        "    \"Not feeling it\",\n",
        "    \"Not a fan\",\n",
        "    \"Eh, nope\",\n",
        "    \"Bit of a letdown\",\n",
        "    \"Questionable move\",\n",
        "    \"Hmm, doubtful\",\n",
        "    \"Skeptical about\",\n",
        "    \"Lacking substance\",\n",
        "    \"Seems off\",\n",
        "    \"Could do better\",\n",
        "    \"Expected more\",\n",
        "    \"Unimpressive\",\n",
        "    \"Flimsy excuse\",\n",
        "    \"Not quite there\",\n",
        "    \"Bit underwhelming\",\n",
        "    \"Not sold on this\",\n",
        "    \"Seems fishy\",\n",
        "    \"Missed the mark\",\n",
        "    \"Not vibing with\",\n",
        "    \"Bit of a fail\",\n",
        "    \"Didn't hit home\",\n",
        "    \"However\",\n",
        "    \"Unfortunately\",\n",
        "    \"Flaw\",\n",
        "    \"Issue\",\n",
        "    \"Problematic\",\n",
        "    \"Concerning\",\n",
        "    \"Inadequate\",\n",
        "    \"Lack\",\n",
        "    \"Mistake\",\n",
        "    \"Weakness\",\n",
        "    \"Failure\",\n",
        "    \"Shortcoming\",\n",
        "    \"Not up to par\",\n",
        "    \"Falls short\",\n",
        "    \"Disappointing\",\n",
        "    \"Unsatisfactory\",\n",
        "    \"Fault\",\n",
        "    \"Critique\",\n",
        "    \"Condemn\",\n",
        "    \"Object\",\n",
        "    \"Dissatisfying\",\n",
        "    \"Underwhelming\",\n",
        "    \"Not well-executed\",\n",
        "    \"Questionable\",\n",
        "    \"Criticize\",\n",
        "    \"Challenge\",\n",
        "    \"Rebuke\",\n",
        "    \"Negative aspect\",\n",
        "    \"Drawback\",\n",
        "    \"Debatable\",\n",
        "    \"Criticism\",\n",
        "    \"Censure\",\n",
        "    \"Knock\",\n",
        "    \"Denounce\",\n",
        "    \"Faultfinding\",\n",
        "    \"Reprove\",\n",
        "    \"Upbraiding\",\n",
        "    \"Reprimand\",\n",
        "    \"Blame\",\n",
        "    \"Reproach\",\n",
        "    \"Chide\",\n",
        "    \"Attack\",\n",
        "    \"Nitpick\",\n",
        "    \"Find fault with\",\n",
        "    \"Take issue with\",\n",
        "    \"Object to\",\n",
        "    \"Complain about\",\n",
        "    \"Berate\",\n",
        "    \"Castigate\",\n",
        "    \"Decry\"\n",
        "]"
      ]
    },
    {
      "cell_type": "code",
      "execution_count": null,
      "metadata": {
        "colab": {
          "base_uri": "https://localhost:8080/"
        },
        "id": "VCSA26HYLdQC",
        "outputId": "8ef38ca4-c3d6-4d53-e2c4-9225efc1da13"
      },
      "outputs": [
        {
          "output_type": "execute_result",
          "data": {
            "text/plain": [
              "array([None, None, None, ..., None, None, None], dtype=object)"
            ]
          },
          "metadata": {},
          "execution_count": 5
        }
      ],
      "source": [
        "# empty criticism labels array\n",
        "\n",
        "criticism_labels = np.empty(df.shape[0], dtype=object)\n",
        "criticism_labels\n"
      ]
    },
    {
      "cell_type": "code",
      "execution_count": null,
      "metadata": {
        "colab": {
          "base_uri": "https://localhost:8080/"
        },
        "id": "_GJ2mPRVLg2I",
        "outputId": "7f1e18a7-eab7-4344-ea20-e73486c5c56b"
      },
      "outputs": [
        {
          "output_type": "stream",
          "name": "stderr",
          "text": [
            "[nltk_data] Downloading package punkt to /root/nltk_data...\n",
            "[nltk_data]   Unzipping tokenizers/punkt.zip.\n"
          ]
        }
      ],
      "source": [
        "# tokenizing all the samples\n",
        "\n",
        "import nltk\n",
        "nltk.download('punkt')\n",
        "from nltk.tokenize import word_tokenize\n",
        "\n",
        "for i in range(len(tweets)):\n",
        "  tweets[i] = word_tokenize(tweets[i])"
      ]
    },
    {
      "cell_type": "code",
      "execution_count": null,
      "metadata": {
        "colab": {
          "base_uri": "https://localhost:8080/"
        },
        "id": "OccITK5WXv1O",
        "outputId": "37069e2d-b79f-42be-b7b6-bc4c74f46b2e"
      },
      "outputs": [
        {
          "output_type": "stream",
          "name": "stdout",
          "text": [
            "Not convinced by\n"
          ]
        }
      ],
      "source": [
        "print(criticism_phrases[0])"
      ]
    },
    {
      "cell_type": "code",
      "execution_count": null,
      "metadata": {
        "colab": {
          "base_uri": "https://localhost:8080/"
        },
        "id": "QTRqAPFzNo89",
        "outputId": "e197f073-9bcc-480a-bac2-489d37475395"
      },
      "outputs": [
        {
          "output_type": "execute_result",
          "data": {
            "text/plain": [
              "[['Not', 'convinced', 'by'],\n",
              " ['Vulnerable', 'to', 'criticism'],\n",
              " ['Disapprove', 'of'],\n",
              " ['Take', 'a', 'critical', 'stance', 'on'],\n",
              " ['Not', 'impressed'],\n",
              " ['Meh'],\n",
              " ['Disappointed'],\n",
              " ['Not', 'cool'],\n",
              " ['Not', 'buying', 'it'],\n",
              " ['Seriously', '?'],\n",
              " ['Not', 'okay'],\n",
              " ['Kinda', 'sketchy'],\n",
              " ['Raise', 'an', 'eyebrow'],\n",
              " ['Not', 'feeling', 'it'],\n",
              " ['Not', 'a', 'fan'],\n",
              " ['Eh', ',', 'nope'],\n",
              " ['Bit', 'of', 'a', 'letdown'],\n",
              " ['Questionable', 'move'],\n",
              " ['Hmm', ',', 'doubtful'],\n",
              " ['Skeptical', 'about'],\n",
              " ['Lacking', 'substance'],\n",
              " ['Seems', 'off'],\n",
              " ['Could', 'do', 'better'],\n",
              " ['Expected', 'more'],\n",
              " ['Unimpressive'],\n",
              " ['Flimsy', 'excuse'],\n",
              " ['Not', 'quite', 'there'],\n",
              " ['Bit', 'underwhelming'],\n",
              " ['Not', 'sold', 'on', 'this'],\n",
              " ['Seems', 'fishy'],\n",
              " ['Missed', 'the', 'mark'],\n",
              " ['Not', 'vibing', 'with'],\n",
              " ['Bit', 'of', 'a', 'fail'],\n",
              " ['Did', \"n't\", 'hit', 'home'],\n",
              " ['However'],\n",
              " ['Unfortunately'],\n",
              " ['Flaw'],\n",
              " ['Issue'],\n",
              " ['Problematic'],\n",
              " ['Concerning'],\n",
              " ['Inadequate'],\n",
              " ['Lack'],\n",
              " ['Mistake'],\n",
              " ['Weakness'],\n",
              " ['Failure'],\n",
              " ['Shortcoming'],\n",
              " ['Not', 'up', 'to', 'par'],\n",
              " ['Falls', 'short'],\n",
              " ['Disappointing'],\n",
              " ['Unsatisfactory'],\n",
              " ['Fault'],\n",
              " ['Critique'],\n",
              " ['Condemn'],\n",
              " ['Object'],\n",
              " ['Dissatisfying'],\n",
              " ['Underwhelming'],\n",
              " ['Not', 'well-executed'],\n",
              " ['Questionable'],\n",
              " ['Criticize'],\n",
              " ['Challenge'],\n",
              " ['Rebuke'],\n",
              " ['Negative', 'aspect'],\n",
              " ['Drawback'],\n",
              " ['Debatable'],\n",
              " ['Criticism'],\n",
              " ['Censure'],\n",
              " ['Knock'],\n",
              " ['Denounce'],\n",
              " ['Faultfinding'],\n",
              " ['Reprove'],\n",
              " ['Upbraiding'],\n",
              " ['Reprimand'],\n",
              " ['Blame'],\n",
              " ['Reproach'],\n",
              " ['Chide'],\n",
              " ['Attack'],\n",
              " ['Nitpick'],\n",
              " ['Find', 'fault', 'with'],\n",
              " ['Take', 'issue', 'with'],\n",
              " ['Object', 'to'],\n",
              " ['Complain', 'about'],\n",
              " ['Berate'],\n",
              " ['Castigate'],\n",
              " ['Decry']]"
            ]
          },
          "metadata": {},
          "execution_count": 8
        }
      ],
      "source": [
        "# tokenizing all the of the criticism phrases\n",
        "\n",
        "for i in range(len(criticism_phrases)):\n",
        "  criticism_phrases[i] = word_tokenize(criticism_phrases[i])\n",
        "\n",
        "\n",
        "criticism_phrases"
      ]
    },
    {
      "cell_type": "code",
      "execution_count": null,
      "metadata": {
        "id": "wrcT2vbKN_tM"
      },
      "outputs": [],
      "source": [
        "# stemming criticism phrases\n",
        "\n",
        "from nltk.stem import PorterStemmer\n",
        "\n",
        "stemmer = PorterStemmer()\n",
        "\n",
        "stemmed_tweets = []\n",
        "for tweet in criticism_phrases:\n",
        "  stemmed_tweet = []\n",
        "  for word in tweet:\n",
        "    new_word = stemmer.stem(word)\n",
        "    stemmed_tweet.append(new_word)\n",
        "  stemmed_tweets.append(stemmed_tweet)\n",
        "\n",
        "for i in range(len(criticism_phrases)):\n",
        "  criticism_phrases[i] = stemmed_tweets[i]"
      ]
    },
    {
      "cell_type": "code",
      "execution_count": null,
      "metadata": {
        "id": "_iWxqp8PLnSE"
      },
      "outputs": [],
      "source": [
        "# stemming all the samples\n",
        "\n",
        "from nltk.stem import PorterStemmer\n",
        "\n",
        "stemmer = PorterStemmer()\n",
        "\n",
        "stemmed_tweets = []\n",
        "for tweet in tweets:\n",
        "  stemmed_tweet = []\n",
        "  for word in tweet:\n",
        "    new_word = stemmer.stem(word)\n",
        "    stemmed_tweet.append(new_word)\n",
        "  stemmed_tweets.append(stemmed_tweet)\n",
        "\n",
        "for i in range(len(tweets)):\n",
        "  tweets[i] = stemmed_tweets[i]"
      ]
    },
    {
      "cell_type": "code",
      "execution_count": null,
      "metadata": {
        "colab": {
          "base_uri": "https://localhost:8080/"
        },
        "id": "47VNubrDX69d",
        "outputId": "b5ef052e-735f-45c2-8ad1-28de5c32d7da"
      },
      "outputs": [
        {
          "output_type": "stream",
          "name": "stdout",
          "text": [
            "[list(['chatgpt', ':', 'optim', 'languag', 'model', 'for', 'dialogu', '@', 'openai'])\n",
            " list(['tri', 'talk', 'with', 'chatgpt', ',', 'our', 'new', 'ai', 'system', 'which', 'is', 'optim', 'for', 'dialogu', '.', 'your', 'feedback', 'will', 'help', 'us', 'improv', 'it', '.'])\n",
            " list(['chatgpt', ':', 'optim', 'languag', 'model', 'for', 'dialogu', 'ai', 'machinelearn', 'datasci', 'artificialintelligence\\\\n\\\\ntrend', 'ai/ml', 'articl', 'identifi', '&', 'amp', ';', 'digest', 'via', 'granola', ';', 'a', 'machine-driven', 'rss', 'bot', 'by', 'ramsey', 'elbash'])\n",
            " ...\n",
            " list(['chatgpt', 'is', 'be', 'disassembl', 'until', 'it', 'can', 'onli', 'dissembl'])\n",
            " list(['2023', 'predict', 'by', 'chatgpt', '.', 'noth', 'realli', 'specif', ',', 'just', 'some', 'trend', 'from', 'the', 'past', 'year', '.', '\\\\nshould', 'be', 'around', 'thi', 'topic', ',', 'we', 'will', 'see', 'in', '364', 'day', '🎉'])\n",
            " list(['from', 'chatgpt', ',', 'neat', 'stuff'])]\n",
            "[['not', 'convinc', 'by'], ['vulner', 'to', 'critic'], ['disapprov', 'of'], ['take', 'a', 'critic', 'stanc', 'on'], ['not', 'impress'], ['meh'], ['disappoint'], ['not', 'cool'], ['not', 'buy', 'it'], ['serious', '?'], ['not', 'okay'], ['kinda', 'sketchi'], ['rais', 'an', 'eyebrow'], ['not', 'feel', 'it'], ['not', 'a', 'fan'], ['eh', ',', 'nope'], ['bit', 'of', 'a', 'letdown'], ['question', 'move'], ['hmm', ',', 'doubt'], ['skeptic', 'about'], ['lack', 'substanc'], ['seem', 'off'], ['could', 'do', 'better'], ['expect', 'more'], ['unimpress'], ['flimsi', 'excus'], ['not', 'quit', 'there'], ['bit', 'underwhelm'], ['not', 'sold', 'on', 'thi'], ['seem', 'fishi'], ['miss', 'the', 'mark'], ['not', 'vibe', 'with'], ['bit', 'of', 'a', 'fail'], ['did', \"n't\", 'hit', 'home'], ['howev'], ['unfortun'], ['flaw'], ['issu'], ['problemat'], ['concern'], ['inadequ'], ['lack'], ['mistak'], ['weak'], ['failur'], ['shortcom'], ['not', 'up', 'to', 'par'], ['fall', 'short'], ['disappoint'], ['unsatisfactori'], ['fault'], ['critiqu'], ['condemn'], ['object'], ['dissatisfi'], ['underwhelm'], ['not', 'well-execut'], ['question'], ['critic'], ['challeng'], ['rebuk'], ['neg', 'aspect'], ['drawback'], ['debat'], ['critic'], ['censur'], ['knock'], ['denounc'], ['faultfind'], ['reprov'], ['upbraid'], ['reprimand'], ['blame'], ['reproach'], ['chide'], ['attack'], ['nitpick'], ['find', 'fault', 'with'], ['take', 'issu', 'with'], ['object', 'to'], ['complain', 'about'], ['berat'], ['castig'], ['decri']]\n"
          ]
        }
      ],
      "source": [
        "print(tweets)\n",
        "print(criticism_phrases)"
      ]
    },
    {
      "cell_type": "code",
      "execution_count": null,
      "metadata": {
        "id": "8fwpFHxlM76c"
      },
      "outputs": [],
      "source": [
        "# detokenizing all the samples\n",
        "\n",
        "from nltk.tokenize.treebank import TreebankWordDetokenizer\n",
        "\n",
        "detokenizer = TreebankWordDetokenizer()\n",
        "\n",
        "for i in range(len(tweets)):\n",
        "  tweets[i] = detokenizer.detokenize(tweets[i])"
      ]
    },
    {
      "cell_type": "code",
      "execution_count": null,
      "metadata": {
        "id": "4AeYJzBNO3XJ"
      },
      "outputs": [],
      "source": [
        "# detokenizing all the criticism phrases\n",
        "\n",
        "for i in range(len(criticism_phrases)):\n",
        "  criticism_phrases[i] = detokenizer.detokenize(criticism_phrases[i])"
      ]
    },
    {
      "cell_type": "code",
      "execution_count": null,
      "metadata": {
        "colab": {
          "base_uri": "https://localhost:8080/"
        },
        "id": "aktqbjyWYbVE",
        "outputId": "b9a0af7b-09bc-489f-c1f8-32e40ad45479"
      },
      "outputs": [
        {
          "output_type": "stream",
          "name": "stdout",
          "text": [
            "['chatgpt: optim languag model for dialogu @ openai'\n",
            " 'tri talk with chatgpt, our new ai system which is optim for dialogu . your feedback will help us improv it.'\n",
            " 'chatgpt: optim languag model for dialogu ai machinelearn datasci artificialintelligence\\\\n\\\\ntrend ai/ml articl identifi & amp; digest via granola; a machine-driven rss bot by ramsey elbash'\n",
            " ... 'chatgpt is be disassembl until it can onli dissembl'\n",
            " '2023 predict by chatgpt . noth realli specif, just some trend from the past year . \\\\nshould be around thi topic, we will see in 364 day 🎉'\n",
            " 'from chatgpt, neat stuff']\n",
            "['not convinc by', 'vulner to critic', 'disapprov of', 'take a critic stanc on', 'not impress', 'meh', 'disappoint', 'not cool', 'not buy it', 'serious?', 'not okay', 'kinda sketchi', 'rais an eyebrow', 'not feel it', 'not a fan', 'eh, nope', 'bit of a letdown', 'question move', 'hmm, doubt', 'skeptic about', 'lack substanc', 'seem off', 'could do better', 'expect more', 'unimpress', 'flimsi excus', 'not quit there', 'bit underwhelm', 'not sold on thi', 'seem fishi', 'miss the mark', 'not vibe with', 'bit of a fail', \"didn't hit home\", 'howev', 'unfortun', 'flaw', 'issu', 'problemat', 'concern', 'inadequ', 'lack', 'mistak', 'weak', 'failur', 'shortcom', 'not up to par', 'fall short', 'disappoint', 'unsatisfactori', 'fault', 'critiqu', 'condemn', 'object', 'dissatisfi', 'underwhelm', 'not well-execut', 'question', 'critic', 'challeng', 'rebuk', 'neg aspect', 'drawback', 'debat', 'critic', 'censur', 'knock', 'denounc', 'faultfind', 'reprov', 'upbraid', 'reprimand', 'blame', 'reproach', 'chide', 'attack', 'nitpick', 'find fault with', 'take issu with', 'object to', 'complain about', 'berat', 'castig', 'decri']\n"
          ]
        }
      ],
      "source": [
        "print(tweets)\n",
        "print(criticism_phrases)"
      ]
    },
    {
      "cell_type": "code",
      "execution_count": null,
      "metadata": {
        "colab": {
          "base_uri": "https://localhost:8080/"
        },
        "id": "P1t2iu2tLfN8",
        "outputId": "4e4d18cc-fec3-4c88-f65d-771f0769f00f"
      },
      "outputs": [
        {
          "output_type": "stream",
          "name": "stdout",
          "text": [
            "219294\n"
          ]
        }
      ],
      "source": [
        "# initializing criticism array labels\n",
        "\n",
        "new_criticism_labels = []\n",
        "\n",
        "for i in range(len(criticism_labels)):\n",
        "    found = False\n",
        "\n",
        "    for phrase in criticism_phrases:\n",
        "        if phrase in tweets[i]:\n",
        "            new_criticism_labels.append(1)\n",
        "            found = True\n",
        "            break\n",
        "\n",
        "    if not found:\n",
        "        new_criticism_labels.append(0)\n",
        "criticism_labels = new_criticism_labels\n",
        "\n",
        "print(len(criticism_labels))"
      ]
    },
    {
      "cell_type": "code",
      "execution_count": null,
      "metadata": {
        "colab": {
          "base_uri": "https://localhost:8080/"
        },
        "id": "ycfiS1B_ZPbd",
        "outputId": "0d83be51-96ba-42d2-d637-86aed67db2f1"
      },
      "outputs": [
        {
          "output_type": "stream",
          "name": "stdout",
          "text": [
            "219294\n"
          ]
        }
      ],
      "source": [
        "print(len(criticism_labels))"
      ]
    },
    {
      "cell_type": "markdown",
      "metadata": {
        "id": "uoOFXlvnPdrO"
      },
      "source": [
        "[link text](`https://`)"
      ]
    },
    {
      "cell_type": "code",
      "execution_count": null,
      "metadata": {
        "id": "lpLQ5DNMPeQM"
      },
      "outputs": [],
      "source": [
        "tweets = original_tweets"
      ]
    },
    {
      "cell_type": "code",
      "source": [],
      "metadata": {
        "id": "ovqalGwQGKdq"
      },
      "execution_count": null,
      "outputs": []
    },
    {
      "cell_type": "code",
      "source": [
        "# Import CountVectorizer class.\n",
        "# CountVectorizer converts text data to matrix of token counts.\n",
        "from sklearn.feature_extraction.text import CountVectorizer\n",
        "count_vector = CountVectorizer()\n",
        "\n",
        "# fit_transform() creates dictionary and return term-document matrix.\n",
        "X_counts = count_vector.fit_transform(tweets)\n",
        "\n",
        "# Import TfidfTransformer class.\n",
        "# TfidfTransformer transoforms count matrix to tf-idf representation.\n",
        "from sklearn.feature_extraction.text import TfidfTransformer\n",
        "tfidf_transformer = TfidfTransformer()\n",
        "\n",
        "# fit_transform transforms count matrix to tf-idf representation(vector).\n",
        "X_tfidf = tfidf_transformer.fit_transform(X_counts)"
      ],
      "metadata": {
        "id": "dGDX3Cm0F70K"
      },
      "execution_count": null,
      "outputs": []
    },
    {
      "cell_type": "code",
      "source": [
        "X_train, X_val, y_train, y_val = train_test_split(X_tfidf,criticism_labels,test_size = .25, random_state = 4)"
      ],
      "metadata": {
        "id": "x9SliuMLHCe9"
      },
      "execution_count": null,
      "outputs": []
    },
    {
      "cell_type": "code",
      "source": [
        "from sklearn.naive_bayes import MultinomialNB\n",
        "clf = MultinomialNB().fit(X_train, y_train)"
      ],
      "metadata": {
        "id": "KvXZ8x3UGMyr"
      },
      "execution_count": null,
      "outputs": []
    },
    {
      "cell_type": "code",
      "source": [
        "from sklearn.metrics import accuracy_score\n",
        "y_pred = clf.predict(X_val)\n",
        "\n",
        "# Calculate the accuracy (validation error)\n",
        "accuracy = accuracy_score(y_val, y_pred)\n",
        "\n",
        "print(f\"Validation Accuracy: {accuracy:.2f}\")\n"
      ],
      "metadata": {
        "colab": {
          "base_uri": "https://localhost:8080/"
        },
        "id": "pwNbnQWPHLdV",
        "outputId": "cede72e1-8807-4fd4-aa00-bfb95f4433c8"
      },
      "execution_count": null,
      "outputs": [
        {
          "output_type": "stream",
          "name": "stdout",
          "text": [
            "Validation Accuracy: 0.92\n"
          ]
        }
      ]
    },
    {
      "cell_type": "code",
      "source": [
        "from sklearn.metrics import classification_report"
      ],
      "metadata": {
        "id": "Fh-7qs2XV5Lp"
      },
      "execution_count": null,
      "outputs": []
    },
    {
      "cell_type": "code",
      "source": [
        "print(classification_report(y_val, y_pred))\n",
        "#For naive Bayes TDIF"
      ],
      "metadata": {
        "colab": {
          "base_uri": "https://localhost:8080/"
        },
        "id": "1By3CPTbV5j2",
        "outputId": "1e1cc19f-39f4-4b65-fb35-9c4aa8e1ac03"
      },
      "execution_count": null,
      "outputs": [
        {
          "output_type": "stream",
          "name": "stdout",
          "text": [
            "              precision    recall  f1-score   support\n",
            "\n",
            "           0       0.92      1.00      0.96     50007\n",
            "           1       0.75      0.05      0.10      4817\n",
            "\n",
            "    accuracy                           0.92     54824\n",
            "   macro avg       0.84      0.53      0.53     54824\n",
            "weighted avg       0.90      0.92      0.88     54824\n",
            "\n"
          ]
        }
      ]
    },
    {
      "cell_type": "code",
      "source": [
        "from sklearn.metrics import confusion_matrix\n",
        "\n",
        "conf_matrix = confusion_matrix(y_val, y_pred)\n",
        "\n",
        "# Set up the figure and axes\n",
        "plt.figure(figsize=(6, 6))\n",
        "sns.set(font_scale=1.2)\n",
        "sns.heatmap(conf_matrix, annot=True, fmt=\"d\", cmap=\"Blues\",\n",
        "            xticklabels=[\"Predicted Negative\", \"Predicted Positive\"],\n",
        "            yticklabels=[\"Actual Negative\", \"Actual Positive\"])\n",
        "\n",
        "plt.xlabel(\"Predicted\")\n",
        "plt.ylabel(\"Actual\")\n",
        "plt.title(\"Confusion Matrix (TF-IDF Naive Bayes)\")\n",
        "\n",
        "plt.show()"
      ],
      "metadata": {
        "colab": {
          "base_uri": "https://localhost:8080/",
          "height": 578
        },
        "id": "CjXLVDc_oFXA",
        "outputId": "4896952c-9c19-4ff9-9073-81626a8d59f9"
      },
      "execution_count": null,
      "outputs": [
        {
          "output_type": "display_data",
          "data": {
            "text/plain": [
              "<Figure size 600x600 with 2 Axes>"
            ],
            "image/png": "[encoded data removed]"
          },
          "metadata": {}
        }
      ]
    }
  ],
  "metadata": {
    "colab": {
      "provenance": [],
      "mount_file_id": "1mBbRnnBjvN8mczlW81mWA5rSc0nF3eAa",
      "authorship_tag": "ABX9TyM9C9WTa0P7gYmFAFidp3gV",
      "include_colab_link": true
    },
    "kernelspec": {
      "display_name": "Python 3",
      "name": "python3"
    },
    "language_info": {
      "name": "python"
    }
  },
  "nbformat": 4,
  "nbformat_minor": 0
}