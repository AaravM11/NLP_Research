{
  "cells": [
    {
      "cell_type": "markdown",
      "metadata": {
        "id": "view-in-github",
        "colab_type": "text"
      },
      "source": [
        "<a href=\"https://colab.research.google.com/github/AaravM11/NLP_Research/blob/main/Bag_SVM_Criticism_ChatGPT.ipynb\" target=\"_parent\"><img src=\"https://colab.research.google.com/assets/colab-badge.svg\" alt=\"Open In Colab\"/></a>"
      ]
    },
    {
      "cell_type": "code",
      "execution_count": null,
      "metadata": {
        "id": "OcePw1MBLJyM"
      },
      "outputs": [],
      "source": [
        "#import packages, data loading\n",
        "\n",
        "import pandas as pd\n",
        "import nltk\n",
        "import re\n",
        "import numpy as np\n",
        "import matplotlib.pyplot as plt\n",
        "import seaborn as sns\n",
        "from sklearn.model_selection import train_test_split\n",
        "import tensorflow as tf\n",
        "from tensorflow.keras.models import Sequential\n",
        "from tensorflow.keras.layers import Dense, Activation\n",
        "from sklearn import preprocessing\n",
        "\n",
        "import pandas as pd\n",
        "import numpy as np\n",
        "from nltk.tokenize import word_tokenize\n",
        "from nltk import pos_tag\n",
        "from nltk.corpus import stopwords\n",
        "from nltk.stem import WordNetLemmatizer\n",
        "from sklearn.preprocessing import LabelEncoder\n",
        "from collections import defaultdict\n",
        "from nltk.corpus import wordnet as wn\n",
        "from sklearn.feature_extraction.text import TfidfVectorizer\n",
        "from sklearn import model_selection, svm\n",
        "from sklearn.metrics import accuracy_score\n",
        "\n",
        "df = pd.read_csv(\"/content/drive/MyDrive/Sentiment Analysis/chatgpt.csv\")\n",
        "\n",
        "\n",
        "df = df.loc[:, ~df.columns.str.contains('^Unnamed')]"
      ]
    },
    {
      "cell_type": "code",
      "execution_count": null,
      "metadata": {
        "colab": {
          "base_uri": "https://localhost:8080/"
        },
        "id": "9_bOezvSTWSF",
        "outputId": "13f84db9-9b55-4e38-d5b8-996ca7d18cae"
      },
      "outputs": [
        {
          "output_type": "stream",
          "name": "stdout",
          "text": [
            "Drive already mounted at /content/drive; to attempt to forcibly remount, call drive.mount(\"/content/drive\", force_remount=True).\n"
          ]
        }
      ],
      "source": [
        "from google.colab import drive\n",
        "drive.mount('/content/drive')"
      ]
    },
    {
      "cell_type": "code",
      "execution_count": null,
      "metadata": {
        "colab": {
          "base_uri": "https://localhost:8080/",
          "height": 206
        },
        "id": "5Ka1Did0Ik3k",
        "outputId": "72001077-5c65-43b4-d197-a4670cba9dee"
      },
      "outputs": [
        {
          "output_type": "execute_result",
          "data": {
            "text/plain": [
              "                                              tweets   labels\n",
              "0  ChatGPT: Optimizing Language Models for Dialog...  neutral\n",
              "1  Try talking with ChatGPT, our new AI system wh...     good\n",
              "2  ChatGPT: Optimizing Language Models for Dialog...  neutral\n",
              "3  THRILLED to share that ChatGPT, our new model ...     good\n",
              "4  As of 2 minutes ago, @OpenAI released their ne...      bad"
            ],
            "text/html": [
              "\n",
              "  <div id=\"df-651fa311-527d-4c3e-aa01-0587f3af72ad\" class=\"colab-df-container\">\n",
              "    <div>\n",
              "<style scoped>\n",
              "    .dataframe tbody tr th:only-of-type {\n",
              "        vertical-align: middle;\n",
              "    }\n",
              "\n",
              "    .dataframe tbody tr th {\n",
              "        vertical-align: top;\n",
              "    }\n",
              "\n",
              "    .dataframe thead th {\n",
              "        text-align: right;\n",
              "    }\n",
              "</style>\n",
              "<table border=\"1\" class=\"dataframe\">\n",
              "  <thead>\n",
              "    <tr style=\"text-align: right;\">\n",
              "      <th></th>\n",
              "      <th>tweets</th>\n",
              "      <th>labels</th>\n",
              "    </tr>\n",
              "  </thead>\n",
              "  <tbody>\n",
              "    <tr>\n",
              "      <th>0</th>\n",
              "      <td>ChatGPT: Optimizing Language Models for Dialog...</td>\n",
              "      <td>neutral</td>\n",
              "    </tr>\n",
              "    <tr>\n",
              "      <th>1</th>\n",
              "      <td>Try talking with ChatGPT, our new AI system wh...</td>\n",
              "      <td>good</td>\n",
              "    </tr>\n",
              "    <tr>\n",
              "      <th>2</th>\n",
              "      <td>ChatGPT: Optimizing Language Models for Dialog...</td>\n",
              "      <td>neutral</td>\n",
              "    </tr>\n",
              "    <tr>\n",
              "      <th>3</th>\n",
              "      <td>THRILLED to share that ChatGPT, our new model ...</td>\n",
              "      <td>good</td>\n",
              "    </tr>\n",
              "    <tr>\n",
              "      <th>4</th>\n",
              "      <td>As of 2 minutes ago, @OpenAI released their ne...</td>\n",
              "      <td>bad</td>\n",
              "    </tr>\n",
              "  </tbody>\n",
              "</table>\n",
              "</div>\n",
              "    <div class=\"colab-df-buttons\">\n",
              "\n",
              "  <div class=\"colab-df-container\">\n",
              "    <button class=\"colab-df-convert\" onclick=\"convertToInteractive('df-651fa311-527d-4c3e-aa01-0587f3af72ad')\"\n",
              "            title=\"Convert this dataframe to an interactive table.\"\n",
              "            style=\"display:none;\">\n",
              "\n",
              "  <svg xmlns=\"http://www.w3.org/2000/svg\" height=\"24px\" viewBox=\"0 -960 960 960\">\n",
              "    <path d=\"M120-120v-720h720v720H120Zm60-500h600v-160H180v160Zm220 220h160v-160H400v160Zm0 220h160v-160H400v160ZM180-400h160v-160H180v160Zm440 0h160v-160H620v160ZM180-180h160v-160H180v160Zm440 0h160v-160H620v160Z\"/>\n",
              "  </svg>\n",
              "    </button>\n",
              "\n",
              "  <style>\n",
              "    .colab-df-container {\n",
              "      display:flex;\n",
              "      gap: 12px;\n",
              "    }\n",
              "\n",
              "    .colab-df-convert {\n",
              "      background-color: #E8F0FE;\n",
              "      border: none;\n",
              "      border-radius: 50%;\n",
              "      cursor: pointer;\n",
              "      display: none;\n",
              "      fill: #1967D2;\n",
              "      height: 32px;\n",
              "      padding: 0 0 0 0;\n",
              "      width: 32px;\n",
              "    }\n",
              "\n",
              "    .colab-df-convert:hover {\n",
              "      background-color: #E2EBFA;\n",
              "      box-shadow: 0px 1px 2px rgba(60, 64, 67, 0.3), 0px 1px 3px 1px rgba(60, 64, 67, 0.15);\n",
              "      fill: #174EA6;\n",
              "    }\n",
              "\n",
              "    .colab-df-buttons div {\n",
              "      margin-bottom: 4px;\n",
              "    }\n",
              "\n",
              "    [theme=dark] .colab-df-convert {\n",
              "      background-color: #3B4455;\n",
              "      fill: #D2E3FC;\n",
              "    }\n",
              "\n",
              "    [theme=dark] .colab-df-convert:hover {\n",
              "      background-color: #434B5C;\n",
              "      box-shadow: 0px 1px 3px 1px rgba(0, 0, 0, 0.15);\n",
              "      filter: drop-shadow(0px 1px 2px rgba(0, 0, 0, 0.3));\n",
              "      fill: #FFFFFF;\n",
              "    }\n",
              "  </style>\n",
              "\n",
              "    <script>\n",
              "      const buttonEl =\n",
              "        document.querySelector('#df-651fa311-527d-4c3e-aa01-0587f3af72ad button.colab-df-convert');\n",
              "      buttonEl.style.display =\n",
              "        google.colab.kernel.accessAllowed ? 'block' : 'none';\n",
              "\n",
              "      async function convertToInteractive(key) {\n",
              "        const element = document.querySelector('#df-651fa311-527d-4c3e-aa01-0587f3af72ad');\n",
              "        const dataTable =\n",
              "          await google.colab.kernel.invokeFunction('convertToInteractive',\n",
              "                                                    [key], {});\n",
              "        if (!dataTable) return;\n",
              "\n",
              "        const docLinkHtml = 'Like what you see? Visit the ' +\n",
              "          '<a target=\"_blank\" href=https://colab.research.google.com/notebooks/data_table.ipynb>data table notebook</a>'\n",
              "          + ' to learn more about interactive tables.';\n",
              "        element.innerHTML = '';\n",
              "        dataTable['output_type'] = 'display_data';\n",
              "        await google.colab.output.renderOutput(dataTable, element);\n",
              "        const docLink = document.createElement('div');\n",
              "        docLink.innerHTML = docLinkHtml;\n",
              "        element.appendChild(docLink);\n",
              "      }\n",
              "    </script>\n",
              "  </div>\n",
              "\n",
              "\n",
              "<div id=\"df-c5dce56b-2794-4d2f-9ad5-802f7d2c8f85\">\n",
              "  <button class=\"colab-df-quickchart\" onclick=\"quickchart('df-c5dce56b-2794-4d2f-9ad5-802f7d2c8f85')\"\n",
              "            title=\"Suggest charts.\"\n",
              "            style=\"display:none;\">\n",
              "\n",
              "<svg xmlns=\"http://www.w3.org/2000/svg\" height=\"24px\"viewBox=\"0 0 24 24\"\n",
              "     width=\"24px\">\n",
              "    <g>\n",
              "        <path d=\"M19 3H5c-1.1 0-2 .9-2 2v14c0 1.1.9 2 2 2h14c1.1 0 2-.9 2-2V5c0-1.1-.9-2-2-2zM9 17H7v-7h2v7zm4 0h-2V7h2v10zm4 0h-2v-4h2v4z\"/>\n",
              "    </g>\n",
              "</svg>\n",
              "  </button>\n",
              "\n",
              "<style>\n",
              "  .colab-df-quickchart {\n",
              "    background-color: #E8F0FE;\n",
              "    border: none;\n",
              "    border-radius: 50%;\n",
              "    cursor: pointer;\n",
              "    display: none;\n",
              "    fill: #1967D2;\n",
              "    height: 32px;\n",
              "    padding: 0 0 0 0;\n",
              "    width: 32px;\n",
              "  }\n",
              "\n",
              "  .colab-df-quickchart:hover {\n",
              "    background-color: #E2EBFA;\n",
              "    box-shadow: 0px 1px 2px rgba(60, 64, 67, 0.3), 0px 1px 3px 1px rgba(60, 64, 67, 0.15);\n",
              "    fill: #174EA6;\n",
              "  }\n",
              "\n",
              "  [theme=dark] .colab-df-quickchart {\n",
              "    background-color: #3B4455;\n",
              "    fill: #D2E3FC;\n",
              "  }\n",
              "\n",
              "  [theme=dark] .colab-df-quickchart:hover {\n",
              "    background-color: #434B5C;\n",
              "    box-shadow: 0px 1px 3px 1px rgba(0, 0, 0, 0.15);\n",
              "    filter: drop-shadow(0px 1px 2px rgba(0, 0, 0, 0.3));\n",
              "    fill: #FFFFFF;\n",
              "  }\n",
              "</style>\n",
              "\n",
              "  <script>\n",
              "    async function quickchart(key) {\n",
              "      const charts = await google.colab.kernel.invokeFunction(\n",
              "          'suggestCharts', [key], {});\n",
              "    }\n",
              "    (() => {\n",
              "      let quickchartButtonEl =\n",
              "        document.querySelector('#df-c5dce56b-2794-4d2f-9ad5-802f7d2c8f85 button');\n",
              "      quickchartButtonEl.style.display =\n",
              "        google.colab.kernel.accessAllowed ? 'block' : 'none';\n",
              "    })();\n",
              "  </script>\n",
              "</div>\n",
              "    </div>\n",
              "  </div>\n"
            ]
          },
          "metadata": {},
          "execution_count": 3
        }
      ],
      "source": [
        "df.head()"
      ]
    },
    {
      "cell_type": "code",
      "execution_count": null,
      "metadata": {
        "id": "7g5Vg1oSLSyW"
      },
      "outputs": [],
      "source": [
        "# clean the tweets\n",
        "\n",
        "tweets = df[\"tweets\"].values\n",
        "cleaned_tweets = []\n",
        "\n",
        "import re\n",
        "\n",
        "for tweet in tweets:\n",
        "  tweet2 = re.sub(r'^RT[\\s]+', '', tweet)\n",
        "  tweet2 = re.sub('http://\\S+|https://\\S+', '', tweet2)\n",
        "  tweet2 = re.sub('http[s]?://\\S+', '', tweet2)\n",
        "  tweet2 = re.sub(r\"http\\S+\", \"\", tweet2)\n",
        "  tweet2 = re.sub(r'#', '', tweet2)\n",
        "  cleaned_tweets.append(tweet2)\n",
        "\n",
        "for i in range(len(tweets)):\n",
        "  tweets[i] = cleaned_tweets[i]\n",
        "\n",
        "original_tweets = tweets\n"
      ]
    },
    {
      "cell_type": "code",
      "execution_count": null,
      "metadata": {
        "id": "6cBJubnyLVRf"
      },
      "outputs": [],
      "source": [
        "# initialize criticism phrases\n",
        "\n",
        "criticism_phrases = [\n",
        "    \"Not convinced by\",\n",
        "    \"Vulnerable to criticism\",\n",
        "    \"Disapprove of\",\n",
        "    \"Take a critical stance on\",\n",
        "    \"Not impressed\",\n",
        "    \"Meh\",\n",
        "    \"Disappointed\",\n",
        "    \"Not cool\",\n",
        "    \"Not buying it\",\n",
        "    \"Seriously?\",\n",
        "    \"Not okay\",\n",
        "    \"Kinda sketchy\",\n",
        "    \"Raise an eyebrow\",\n",
        "    \"Not feeling it\",\n",
        "    \"Not a fan\",\n",
        "    \"Eh, nope\",\n",
        "    \"Bit of a letdown\",\n",
        "    \"Questionable move\",\n",
        "    \"Hmm, doubtful\",\n",
        "    \"Skeptical about\",\n",
        "    \"Lacking substance\",\n",
        "    \"Seems off\",\n",
        "    \"Could do better\",\n",
        "    \"Expected more\",\n",
        "    \"Unimpressive\",\n",
        "    \"Flimsy excuse\",\n",
        "    \"Not quite there\",\n",
        "    \"Bit underwhelming\",\n",
        "    \"Not sold on this\",\n",
        "    \"Seems fishy\",\n",
        "    \"Missed the mark\",\n",
        "    \"Not vibing with\",\n",
        "    \"Bit of a fail\",\n",
        "    \"Didn't hit home\",\n",
        "    \"However\",\n",
        "    \"Unfortunately\",\n",
        "    \"Flaw\",\n",
        "    \"Issue\",\n",
        "    \"Problematic\",\n",
        "    \"Concerning\",\n",
        "    \"Inadequate\",\n",
        "    \"Lack\",\n",
        "    \"Mistake\",\n",
        "    \"Weakness\",\n",
        "    \"Failure\",\n",
        "    \"Shortcoming\",\n",
        "    \"Not up to par\",\n",
        "    \"Falls short\",\n",
        "    \"Disappointing\",\n",
        "    \"Unsatisfactory\",\n",
        "    \"Fault\",\n",
        "    \"Critique\",\n",
        "    \"Condemn\",\n",
        "    \"Object\",\n",
        "    \"Dissatisfying\",\n",
        "    \"Underwhelming\",\n",
        "    \"Not well-executed\",\n",
        "    \"Questionable\",\n",
        "    \"Criticize\",\n",
        "    \"Challenge\",\n",
        "    \"Rebuke\",\n",
        "    \"Negative aspect\",\n",
        "    \"Drawback\",\n",
        "    \"Debatable\",\n",
        "    \"Criticism\",\n",
        "    \"Censure\",\n",
        "    \"Knock\",\n",
        "    \"Denounce\",\n",
        "    \"Faultfinding\",\n",
        "    \"Reprove\",\n",
        "    \"Upbraiding\",\n",
        "    \"Reprimand\",\n",
        "    \"Blame\",\n",
        "    \"Reproach\",\n",
        "    \"Chide\",\n",
        "    \"Attack\",\n",
        "    \"Nitpick\",\n",
        "    \"Find fault with\",\n",
        "    \"Take issue with\",\n",
        "    \"Object to\",\n",
        "    \"Complain about\",\n",
        "    \"Berate\",\n",
        "    \"Castigate\",\n",
        "    \"Decry\"\n",
        "]"
      ]
    },
    {
      "cell_type": "code",
      "execution_count": null,
      "metadata": {
        "colab": {
          "base_uri": "https://localhost:8080/"
        },
        "id": "VCSA26HYLdQC",
        "outputId": "4bdb59f7-c6a1-47b3-bc1b-9e880b7d3b76"
      },
      "outputs": [
        {
          "output_type": "execute_result",
          "data": {
            "text/plain": [
              "array([None, None, None, ..., None, None, None], dtype=object)"
            ]
          },
          "metadata": {},
          "execution_count": 6
        }
      ],
      "source": [
        "# empty criticism labels array\n",
        "\n",
        "criticism_labels = np.empty(df.shape[0], dtype=object)\n",
        "criticism_labels\n"
      ]
    },
    {
      "cell_type": "code",
      "execution_count": null,
      "metadata": {
        "colab": {
          "base_uri": "https://localhost:8080/"
        },
        "id": "_GJ2mPRVLg2I",
        "outputId": "b574c30c-922c-4d93-a964-85b48d9fc634"
      },
      "outputs": [
        {
          "output_type": "stream",
          "name": "stderr",
          "text": [
            "[nltk_data] Downloading package punkt to /root/nltk_data...\n",
            "[nltk_data]   Unzipping tokenizers/punkt.zip.\n"
          ]
        }
      ],
      "source": [
        "# tokenizing all the samples\n",
        "\n",
        "import nltk\n",
        "nltk.download('punkt')\n",
        "from nltk.tokenize import word_tokenize\n",
        "\n",
        "for i in range(len(tweets)):\n",
        "  tweets[i] = word_tokenize(tweets[i])"
      ]
    },
    {
      "cell_type": "code",
      "execution_count": null,
      "metadata": {
        "colab": {
          "base_uri": "https://localhost:8080/"
        },
        "id": "OccITK5WXv1O",
        "outputId": "95b4f2ea-06b1-4d40-e1ce-709020930b15"
      },
      "outputs": [
        {
          "output_type": "stream",
          "name": "stdout",
          "text": [
            "Not convinced by\n"
          ]
        }
      ],
      "source": [
        "print(criticism_phrases[0])"
      ]
    },
    {
      "cell_type": "code",
      "execution_count": null,
      "metadata": {
        "colab": {
          "base_uri": "https://localhost:8080/"
        },
        "id": "QTRqAPFzNo89",
        "outputId": "15df6fb6-b6ae-4bf5-8a93-927b9fe8bd6d"
      },
      "outputs": [
        {
          "output_type": "execute_result",
          "data": {
            "text/plain": [
              "[['Not', 'convinced', 'by'],\n",
              " ['Vulnerable', 'to', 'criticism'],\n",
              " ['Disapprove', 'of'],\n",
              " ['Take', 'a', 'critical', 'stance', 'on'],\n",
              " ['Not', 'impressed'],\n",
              " ['Meh'],\n",
              " ['Disappointed'],\n",
              " ['Not', 'cool'],\n",
              " ['Not', 'buying', 'it'],\n",
              " ['Seriously', '?'],\n",
              " ['Not', 'okay'],\n",
              " ['Kinda', 'sketchy'],\n",
              " ['Raise', 'an', 'eyebrow'],\n",
              " ['Not', 'feeling', 'it'],\n",
              " ['Not', 'a', 'fan'],\n",
              " ['Eh', ',', 'nope'],\n",
              " ['Bit', 'of', 'a', 'letdown'],\n",
              " ['Questionable', 'move'],\n",
              " ['Hmm', ',', 'doubtful'],\n",
              " ['Skeptical', 'about'],\n",
              " ['Lacking', 'substance'],\n",
              " ['Seems', 'off'],\n",
              " ['Could', 'do', 'better'],\n",
              " ['Expected', 'more'],\n",
              " ['Unimpressive'],\n",
              " ['Flimsy', 'excuse'],\n",
              " ['Not', 'quite', 'there'],\n",
              " ['Bit', 'underwhelming'],\n",
              " ['Not', 'sold', 'on', 'this'],\n",
              " ['Seems', 'fishy'],\n",
              " ['Missed', 'the', 'mark'],\n",
              " ['Not', 'vibing', 'with'],\n",
              " ['Bit', 'of', 'a', 'fail'],\n",
              " ['Did', \"n't\", 'hit', 'home'],\n",
              " ['However'],\n",
              " ['Unfortunately'],\n",
              " ['Flaw'],\n",
              " ['Issue'],\n",
              " ['Problematic'],\n",
              " ['Concerning'],\n",
              " ['Inadequate'],\n",
              " ['Lack'],\n",
              " ['Mistake'],\n",
              " ['Weakness'],\n",
              " ['Failure'],\n",
              " ['Shortcoming'],\n",
              " ['Not', 'up', 'to', 'par'],\n",
              " ['Falls', 'short'],\n",
              " ['Disappointing'],\n",
              " ['Unsatisfactory'],\n",
              " ['Fault'],\n",
              " ['Critique'],\n",
              " ['Condemn'],\n",
              " ['Object'],\n",
              " ['Dissatisfying'],\n",
              " ['Underwhelming'],\n",
              " ['Not', 'well-executed'],\n",
              " ['Questionable'],\n",
              " ['Criticize'],\n",
              " ['Challenge'],\n",
              " ['Rebuke'],\n",
              " ['Negative', 'aspect'],\n",
              " ['Drawback'],\n",
              " ['Debatable'],\n",
              " ['Criticism'],\n",
              " ['Censure'],\n",
              " ['Knock'],\n",
              " ['Denounce'],\n",
              " ['Faultfinding'],\n",
              " ['Reprove'],\n",
              " ['Upbraiding'],\n",
              " ['Reprimand'],\n",
              " ['Blame'],\n",
              " ['Reproach'],\n",
              " ['Chide'],\n",
              " ['Attack'],\n",
              " ['Nitpick'],\n",
              " ['Find', 'fault', 'with'],\n",
              " ['Take', 'issue', 'with'],\n",
              " ['Object', 'to'],\n",
              " ['Complain', 'about'],\n",
              " ['Berate'],\n",
              " ['Castigate'],\n",
              " ['Decry']]"
            ]
          },
          "metadata": {},
          "execution_count": 9
        }
      ],
      "source": [
        "# tokenizing all the of the criticism phrases\n",
        "\n",
        "for i in range(len(criticism_phrases)):\n",
        "  criticism_phrases[i] = word_tokenize(criticism_phrases[i])\n",
        "\n",
        "\n",
        "criticism_phrases"
      ]
    },
    {
      "cell_type": "code",
      "execution_count": null,
      "metadata": {
        "id": "wrcT2vbKN_tM"
      },
      "outputs": [],
      "source": [
        "# stemming criticism phrases\n",
        "\n",
        "from nltk.stem import PorterStemmer\n",
        "\n",
        "stemmer = PorterStemmer()\n",
        "\n",
        "stemmed_tweets = []\n",
        "for tweet in criticism_phrases:\n",
        "  stemmed_tweet = []\n",
        "  for word in tweet:\n",
        "    new_word = stemmer.stem(word)\n",
        "    stemmed_tweet.append(new_word)\n",
        "  stemmed_tweets.append(stemmed_tweet)\n",
        "\n",
        "for i in range(len(criticism_phrases)):\n",
        "  criticism_phrases[i] = stemmed_tweets[i]"
      ]
    },
    {
      "cell_type": "code",
      "execution_count": null,
      "metadata": {
        "id": "_iWxqp8PLnSE"
      },
      "outputs": [],
      "source": [
        "# stemming all the samples\n",
        "\n",
        "from nltk.stem import PorterStemmer\n",
        "\n",
        "stemmer = PorterStemmer()\n",
        "\n",
        "stemmed_tweets = []\n",
        "for tweet in tweets:\n",
        "  stemmed_tweet = []\n",
        "  for word in tweet:\n",
        "    new_word = stemmer.stem(word)\n",
        "    stemmed_tweet.append(new_word)\n",
        "  stemmed_tweets.append(stemmed_tweet)\n",
        "\n",
        "for i in range(len(tweets)):\n",
        "  tweets[i] = stemmed_tweets[i]"
      ]
    },
    {
      "cell_type": "code",
      "execution_count": null,
      "metadata": {
        "colab": {
          "base_uri": "https://localhost:8080/"
        },
        "id": "47VNubrDX69d",
        "outputId": "5945528b-257b-4a48-fe8c-7f089e60c9dc"
      },
      "outputs": [
        {
          "output_type": "stream",
          "name": "stdout",
          "text": [
            "[list(['chatgpt', ':', 'optim', 'languag', 'model', 'for', 'dialogu', '@', 'openai'])\n",
            " list(['tri', 'talk', 'with', 'chatgpt', ',', 'our', 'new', 'ai', 'system', 'which', 'is', 'optim', 'for', 'dialogu', '.', 'your', 'feedback', 'will', 'help', 'us', 'improv', 'it', '.'])\n",
            " list(['chatgpt', ':', 'optim', 'languag', 'model', 'for', 'dialogu', 'ai', 'machinelearn', 'datasci', 'artificialintelligence\\\\n\\\\ntrend', 'ai/ml', 'articl', 'identifi', '&', 'amp', ';', 'digest', 'via', 'granola', ';', 'a', 'machine-driven', 'rss', 'bot', 'by', 'ramsey', 'elbash'])\n",
            " ...\n",
            " list(['chatgpt', 'is', 'be', 'disassembl', 'until', 'it', 'can', 'onli', 'dissembl'])\n",
            " list(['2023', 'predict', 'by', 'chatgpt', '.', 'noth', 'realli', 'specif', ',', 'just', 'some', 'trend', 'from', 'the', 'past', 'year', '.', '\\\\nshould', 'be', 'around', 'thi', 'topic', ',', 'we', 'will', 'see', 'in', '364', 'day', '🎉'])\n",
            " list(['from', 'chatgpt', ',', 'neat', 'stuff'])]\n",
            "[['not', 'convinc', 'by'], ['vulner', 'to', 'critic'], ['disapprov', 'of'], ['take', 'a', 'critic', 'stanc', 'on'], ['not', 'impress'], ['meh'], ['disappoint'], ['not', 'cool'], ['not', 'buy', 'it'], ['serious', '?'], ['not', 'okay'], ['kinda', 'sketchi'], ['rais', 'an', 'eyebrow'], ['not', 'feel', 'it'], ['not', 'a', 'fan'], ['eh', ',', 'nope'], ['bit', 'of', 'a', 'letdown'], ['question', 'move'], ['hmm', ',', 'doubt'], ['skeptic', 'about'], ['lack', 'substanc'], ['seem', 'off'], ['could', 'do', 'better'], ['expect', 'more'], ['unimpress'], ['flimsi', 'excus'], ['not', 'quit', 'there'], ['bit', 'underwhelm'], ['not', 'sold', 'on', 'thi'], ['seem', 'fishi'], ['miss', 'the', 'mark'], ['not', 'vibe', 'with'], ['bit', 'of', 'a', 'fail'], ['did', \"n't\", 'hit', 'home'], ['howev'], ['unfortun'], ['flaw'], ['issu'], ['problemat'], ['concern'], ['inadequ'], ['lack'], ['mistak'], ['weak'], ['failur'], ['shortcom'], ['not', 'up', 'to', 'par'], ['fall', 'short'], ['disappoint'], ['unsatisfactori'], ['fault'], ['critiqu'], ['condemn'], ['object'], ['dissatisfi'], ['underwhelm'], ['not', 'well-execut'], ['question'], ['critic'], ['challeng'], ['rebuk'], ['neg', 'aspect'], ['drawback'], ['debat'], ['critic'], ['censur'], ['knock'], ['denounc'], ['faultfind'], ['reprov'], ['upbraid'], ['reprimand'], ['blame'], ['reproach'], ['chide'], ['attack'], ['nitpick'], ['find', 'fault', 'with'], ['take', 'issu', 'with'], ['object', 'to'], ['complain', 'about'], ['berat'], ['castig'], ['decri']]\n"
          ]
        }
      ],
      "source": [
        "print(tweets)\n",
        "print(criticism_phrases)"
      ]
    },
    {
      "cell_type": "code",
      "execution_count": null,
      "metadata": {
        "id": "8fwpFHxlM76c"
      },
      "outputs": [],
      "source": [
        "# detokenizing all the samples\n",
        "\n",
        "from nltk.tokenize.treebank import TreebankWordDetokenizer\n",
        "\n",
        "detokenizer = TreebankWordDetokenizer()\n",
        "\n",
        "for i in range(len(tweets)):\n",
        "  tweets[i] = detokenizer.detokenize(tweets[i])"
      ]
    },
    {
      "cell_type": "code",
      "execution_count": null,
      "metadata": {
        "id": "4AeYJzBNO3XJ"
      },
      "outputs": [],
      "source": [
        "# detokenizing all the criticism phrases\n",
        "\n",
        "for i in range(len(criticism_phrases)):\n",
        "  criticism_phrases[i] = detokenizer.detokenize(criticism_phrases[i])"
      ]
    },
    {
      "cell_type": "code",
      "execution_count": null,
      "metadata": {
        "colab": {
          "base_uri": "https://localhost:8080/"
        },
        "id": "aktqbjyWYbVE",
        "outputId": "cac3d602-3711-47d2-b1b0-31f477b7ad12"
      },
      "outputs": [
        {
          "output_type": "stream",
          "name": "stdout",
          "text": [
            "['chatgpt: optim languag model for dialogu @ openai'\n",
            " 'tri talk with chatgpt, our new ai system which is optim for dialogu . your feedback will help us improv it.'\n",
            " 'chatgpt: optim languag model for dialogu ai machinelearn datasci artificialintelligence\\\\n\\\\ntrend ai/ml articl identifi & amp; digest via granola; a machine-driven rss bot by ramsey elbash'\n",
            " ... 'chatgpt is be disassembl until it can onli dissembl'\n",
            " '2023 predict by chatgpt . noth realli specif, just some trend from the past year . \\\\nshould be around thi topic, we will see in 364 day 🎉'\n",
            " 'from chatgpt, neat stuff']\n",
            "['not convinc by', 'vulner to critic', 'disapprov of', 'take a critic stanc on', 'not impress', 'meh', 'disappoint', 'not cool', 'not buy it', 'serious?', 'not okay', 'kinda sketchi', 'rais an eyebrow', 'not feel it', 'not a fan', 'eh, nope', 'bit of a letdown', 'question move', 'hmm, doubt', 'skeptic about', 'lack substanc', 'seem off', 'could do better', 'expect more', 'unimpress', 'flimsi excus', 'not quit there', 'bit underwhelm', 'not sold on thi', 'seem fishi', 'miss the mark', 'not vibe with', 'bit of a fail', \"didn't hit home\", 'howev', 'unfortun', 'flaw', 'issu', 'problemat', 'concern', 'inadequ', 'lack', 'mistak', 'weak', 'failur', 'shortcom', 'not up to par', 'fall short', 'disappoint', 'unsatisfactori', 'fault', 'critiqu', 'condemn', 'object', 'dissatisfi', 'underwhelm', 'not well-execut', 'question', 'critic', 'challeng', 'rebuk', 'neg aspect', 'drawback', 'debat', 'critic', 'censur', 'knock', 'denounc', 'faultfind', 'reprov', 'upbraid', 'reprimand', 'blame', 'reproach', 'chide', 'attack', 'nitpick', 'find fault with', 'take issu with', 'object to', 'complain about', 'berat', 'castig', 'decri']\n"
          ]
        }
      ],
      "source": [
        "print(tweets)\n",
        "print(criticism_phrases)"
      ]
    },
    {
      "cell_type": "code",
      "execution_count": null,
      "metadata": {
        "colab": {
          "base_uri": "https://localhost:8080/"
        },
        "id": "P1t2iu2tLfN8",
        "outputId": "d36609c0-84cd-43b1-9798-1d674063fa5e"
      },
      "outputs": [
        {
          "output_type": "stream",
          "name": "stdout",
          "text": [
            "219294\n"
          ]
        }
      ],
      "source": [
        "# initializing criticism array labels\n",
        "\n",
        "new_criticism_labels = []\n",
        "\n",
        "for i in range(len(criticism_labels)):\n",
        "    found = False\n",
        "\n",
        "    for phrase in criticism_phrases:\n",
        "        if phrase in tweets[i]:\n",
        "            new_criticism_labels.append(1)\n",
        "            found = True\n",
        "            break\n",
        "\n",
        "    if not found:\n",
        "        new_criticism_labels.append(0)\n",
        "criticism_labels = new_criticism_labels\n",
        "\n",
        "print(len(criticism_labels))"
      ]
    },
    {
      "cell_type": "code",
      "execution_count": null,
      "metadata": {
        "colab": {
          "base_uri": "https://localhost:8080/"
        },
        "id": "ycfiS1B_ZPbd",
        "outputId": "d3aba75c-cc72-4fa7-db1f-ed08e1bee7c1"
      },
      "outputs": [
        {
          "output_type": "stream",
          "name": "stdout",
          "text": [
            "219294\n"
          ]
        }
      ],
      "source": [
        "print(len(criticism_labels))"
      ]
    },
    {
      "cell_type": "markdown",
      "metadata": {
        "id": "uoOFXlvnPdrO"
      },
      "source": [
        "[link text](`https://`)"
      ]
    },
    {
      "cell_type": "code",
      "execution_count": null,
      "metadata": {
        "id": "lpLQ5DNMPeQM"
      },
      "outputs": [],
      "source": [
        "tweets = original_tweets"
      ]
    },
    {
      "cell_type": "code",
      "execution_count": null,
      "metadata": {
        "colab": {
          "base_uri": "https://localhost:8080/"
        },
        "id": "ibZvgM6_zt3L",
        "outputId": "212b2ae5-5705-4b39-a398-0b30ce88a7f1"
      },
      "outputs": [
        {
          "output_type": "stream",
          "name": "stderr",
          "text": [
            "[nltk_data] Downloading package punkt to /root/nltk_data...\n",
            "[nltk_data]   Package punkt is already up-to-date!\n"
          ]
        }
      ],
      "source": [
        "# tokenizing all the samples\n",
        "\n",
        "import nltk\n",
        "nltk.download('punkt')\n",
        "from nltk.tokenize import word_tokenize\n",
        "\n",
        "for i in range(len(tweets)):\n",
        "  tweets[i] = word_tokenize(tweets[i])"
      ]
    },
    {
      "cell_type": "code",
      "execution_count": null,
      "metadata": {
        "colab": {
          "base_uri": "https://localhost:8080/"
        },
        "id": "WSNuNq0OzwP0",
        "outputId": "b8f772d5-adf4-49cf-af04-dbe7afe9704a"
      },
      "outputs": [
        {
          "output_type": "stream",
          "name": "stderr",
          "text": [
            "[nltk_data] Downloading package stopwords to /root/nltk_data...\n",
            "[nltk_data]   Unzipping corpora/stopwords.zip.\n"
          ]
        }
      ],
      "source": [
        "# importing stopwords\n",
        "\n",
        "nltk.download(\"stopwords\")\n",
        "from nltk.corpus import stopwords\n",
        "import string"
      ]
    },
    {
      "cell_type": "code",
      "execution_count": null,
      "metadata": {
        "colab": {
          "base_uri": "https://localhost:8080/"
        },
        "id": "eiJUv_18zxv7",
        "outputId": "3074f4e4-aafd-4e3f-edb8-c79d26201424"
      },
      "outputs": [
        {
          "output_type": "stream",
          "name": "stdout",
          "text": [
            "{'all', 'mustn', 'than', 'himself', 'during', 'if', 'were', 'will', 'their', 'about', 'and', 'aren', 'haven', 'yours', 'she', 'does', 'such', 'no', 'where', 'am', 'while', 'weren', \"you're\", \"you'll\", 'in', 'until', 'be', 'just', 'own', 'had', \"don't\", 'is', 'me', \"aren't\", 'herself', 'against', 'above', 'why', \"should've\", \"didn't\", 'doing', 'into', 'i', 'you', 'have', 'my', \"needn't\", 'same', 'hasn', 'on', 'other', 'hers', 'too', 'needn', \"hasn't\", 'them', 'm', 'yourselves', 'we', 'to', 'as', 'did', \"that'll\", 'these', 'ma', 'over', \"you've\", 'an', \"mustn't\", 'with', 'our', 'out', \"wasn't\", 'are', 'd', 'again', 'isn', 'mightn', 'her', 'a', 'wasn', 'up', 'didn', 'both', 'under', 'shan', 'ain', 'shouldn', 'won', 're', 'at', 'some', 'couldn', 'for', \"shouldn't\", 'his', 'but', 'nor', \"won't\", 'that', \"doesn't\", 'whom', 'myself', \"it's\", 'him', 'do', 'through', 'here', 'who', 'he', 'by', 'll', 'doesn', 'your', 'those', 'further', 'because', 'how', 'this', \"mightn't\", 'so', 'more', 'what', 'hadn', 'y', 't', \"couldn't\", 'any', 'was', 'now', 'the', 'having', \"weren't\", \"isn't\", 'been', 'themselves', \"shan't\", 'each', 'being', 'after', 'there', 'they', 'should', 'wouldn', \"she's\", 'only', 's', \"you'd\", 'ours', 'before', \"haven't\", 'then', 'ourselves', 'few', 'can', 'o', 'between', 'once', 'not', 'yourself', 'it', 'very', 've', 'which', \"hadn't\", 'has', 'don', 'below', 'off', 'most', 'or', 'when', 'itself', 'of', 'its', 'theirs', \"wouldn't\", 'from', 'down'}\n"
          ]
        }
      ],
      "source": [
        "# removing stop words\n",
        "\n",
        "stop = set(stopwords.words('english'))\n",
        "print(stop)\n",
        "new_tweets = tweets\n",
        "new_tweets2 = []\n",
        "for tweet in new_tweets:\n",
        "  new_tweet = []\n",
        "  for word in tweet:\n",
        "    if (word not in stop and word not in string.punctuation):\n",
        "      new_tweet.append(word)\n",
        "  new_tweets2.append(new_tweet)\n",
        "\n",
        "\n",
        "for i in range(len(tweets)):\n",
        "  tweets[i] = new_tweets2[i]"
      ]
    },
    {
      "cell_type": "code",
      "execution_count": null,
      "metadata": {
        "id": "F7DjroXszz3n"
      },
      "outputs": [],
      "source": [
        "# stemming all the samples\n",
        "\n",
        "from nltk.stem import PorterStemmer\n",
        "\n",
        "stemmer = PorterStemmer()\n",
        "\n",
        "stemmed_tweets = []\n",
        "for tweet in tweets:\n",
        "  stemmed_tweet = []\n",
        "  for word in tweet:\n",
        "    new_word = stemmer.stem(word)\n",
        "    stemmed_tweet.append(new_word)\n",
        "  stemmed_tweets.append(stemmed_tweet)\n",
        "\n",
        "for i in range(len(tweets)):\n",
        "  tweets[i] = stemmed_tweets[i]"
      ]
    },
    {
      "cell_type": "code",
      "execution_count": null,
      "metadata": {
        "id": "OpqRapUUz1v9"
      },
      "outputs": [],
      "source": [
        "def build_freqs(tweets, labels):\n",
        "  freqs = {}\n",
        "  for i in range(len(labels)):\n",
        "    for word in tweets[i]:\n",
        "      pair = (word, labels[i])\n",
        "      if pair in freqs:\n",
        "        freqs[pair] += 1\n",
        "      else:\n",
        "          freqs[pair] = 1\n",
        "  return freqs\n"
      ]
    },
    {
      "cell_type": "code",
      "execution_count": null,
      "metadata": {
        "id": "PfJ4yhPEz3HJ"
      },
      "outputs": [],
      "source": [
        "freqs = build_freqs(tweets, criticism_labels)"
      ]
    },
    {
      "cell_type": "code",
      "execution_count": null,
      "metadata": {
        "id": "nSJcji6lz4YG"
      },
      "outputs": [],
      "source": [
        "X = np.zeros((len(tweets), 2))"
      ]
    },
    {
      "cell_type": "code",
      "execution_count": null,
      "metadata": {
        "id": "cNE5oREPz6MD"
      },
      "outputs": [],
      "source": [
        "def features(tweets,freqs):\n",
        "  for i in range(len(tweets)):\n",
        "    tweet = tweets[i]\n",
        "    for w in tweet:\n",
        "      if (w, 0) in freqs:\n",
        "        X[i, 0] = X[i, 0] + freqs[(w, 0)]\n",
        "      if (w, 1) in freqs:\n",
        "        X[i, 1] = X[i, 1] + freqs[(w, 1)]\n",
        "  return X"
      ]
    },
    {
      "cell_type": "code",
      "execution_count": null,
      "metadata": {
        "id": "tNgQ-a66z-hm"
      },
      "outputs": [],
      "source": [
        "X = features(tweets, freqs)"
      ]
    },
    {
      "cell_type": "code",
      "execution_count": null,
      "metadata": {
        "id": "-DVwVozH0AqC"
      },
      "outputs": [],
      "source": [
        "y = criticism_labels\n",
        "y = np.array(y)"
      ]
    },
    {
      "cell_type": "code",
      "execution_count": null,
      "metadata": {
        "id": "ND0m9MFa0GZS"
      },
      "outputs": [],
      "source": [
        "X_train, X_val, y_train, y_val = train_test_split(X,y,test_size = .25, random_state = 4)"
      ]
    },
    {
      "cell_type": "code",
      "execution_count": null,
      "metadata": {
        "id": "jb_aIUuFguwa"
      },
      "outputs": [],
      "source": [
        "scaler_X = preprocessing.StandardScaler()\n",
        "scaler_X.fit(X_train)\n",
        "X_train_scaled = scaler_X.transform(X_train)\n",
        "X_val_scaled = scaler_X.transform(X_val)"
      ]
    },
    {
      "cell_type": "code",
      "execution_count": null,
      "metadata": {
        "id": "ldd2QnRPSqjq"
      },
      "outputs": [],
      "source": [
        "#Encoder = LabelEncoder()\n",
        "#Train_Y = Encoder.fit_transform(y_train)\n",
        "#Val_Y = Encoder.fit_transform(y_val)"
      ]
    },
    {
      "cell_type": "code",
      "execution_count": null,
      "metadata": {
        "id": "L1hXa447Ul4i"
      },
      "outputs": [],
      "source": [
        "from sklearn.svm import SVC"
      ]
    },
    {
      "cell_type": "code",
      "execution_count": null,
      "metadata": {
        "colab": {
          "base_uri": "https://localhost:8080/"
        },
        "id": "i2K8guDeS11i",
        "outputId": "6cf310a5-26b4-4bc2-d86a-7d1b4dc1200e"
      },
      "outputs": [
        {
          "output_type": "stream",
          "name": "stdout",
          "text": [
            "Accuracy:  94.85079527214359\n"
          ]
        }
      ],
      "source": [
        "SVM = svm.SVC(C=1.0, kernel='linear', degree=3, gamma='auto')\n",
        "SVM.fit(X_train_scaled,y_train)\n",
        "\n",
        "predictions_SVM = SVM.predict(X_val_scaled)\n",
        "\n",
        "print(\"Accuracy: \",accuracy_score(predictions_SVM, y_val)*100)"
      ]
    },
    {
      "cell_type": "code",
      "execution_count": null,
      "metadata": {
        "colab": {
          "base_uri": "https://localhost:8080/"
        },
        "id": "bvHYyDCCpRjR",
        "outputId": "dd78a51c-fbaa-4583-d712-39473be79d87"
      },
      "outputs": [
        {
          "output_type": "stream",
          "name": "stdout",
          "text": [
            "              precision    recall  f1-score   support\n",
            "\n",
            "           0       0.99      0.95      0.97     52298\n",
            "           1       0.47      0.89      0.62      2526\n",
            "\n",
            "    accuracy                           0.95     54824\n",
            "   macro avg       0.73      0.92      0.79     54824\n",
            "weighted avg       0.97      0.95      0.96     54824\n",
            "\n"
          ]
        }
      ],
      "source": [
        "from sklearn.metrics import classification_report\n",
        "\n",
        "print(classification_report(predictions_SVM, y_val))"
      ]
    },
    {
      "cell_type": "code",
      "source": [
        "from sklearn.metrics import confusion_matrix\n",
        "\n",
        "conf_matrix = confusion_matrix(y_val, predictions_SVM)\n",
        "\n",
        "# Set up the figure and axes\n",
        "plt.figure(figsize=(6, 6))\n",
        "sns.set(font_scale=1.2)\n",
        "sns.heatmap(conf_matrix, annot=True, fmt=\"d\", cmap=\"Blues\",\n",
        "            xticklabels=[\"Predicted Negative\", \"Predicted Positive\"],\n",
        "            yticklabels=[\"Actual Negative\", \"Actual Positive\"])\n",
        "\n",
        "plt.xlabel(\"Predicted\")\n",
        "plt.ylabel(\"Actual\")\n",
        "plt.title(\"Confusion Matrix (Bag-of-Words SVM)\")\n",
        "\n",
        "plt.show()"
      ],
      "metadata": {
        "colab": {
          "base_uri": "https://localhost:8080/",
          "height": 578
        },
        "id": "Mu9dFZ-UxtKe",
        "outputId": "7a39d61e-9254-4f24-f73d-00ad7aee9f25"
      },
      "execution_count": null,
      "outputs": [
        {
          "output_type": "display_data",
          "data": {
            "text/plain": [
              "<Figure size 600x600 with 2 Axes>"
            ],
            "image/png": "[encoded data removed]"
          },
          "metadata": {}
        }
      ]
    },
    {
      "cell_type": "code",
      "source": [],
      "metadata": {
        "id": "jLoJYu69yHRY"
      },
      "execution_count": null,
      "outputs": []
    }
  ],
  "metadata": {
    "colab": {
      "provenance": [],
      "mount_file_id": "1KbzWf0vsecIvdfZsRfZt8Q7dMFt6v4ay",
      "authorship_tag": "ABX9TyM59FSj8xeOxvEtQhzt1MGb",
      "include_colab_link": true
    },
    "kernelspec": {
      "display_name": "Python 3",
      "name": "python3"
    },
    "language_info": {
      "name": "python"
    }
  },
  "nbformat": 4,
  "nbformat_minor": 0
}