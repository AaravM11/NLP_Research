{
  "cells": [
    {
      "cell_type": "markdown",
      "metadata": {
        "id": "view-in-github",
        "colab_type": "text"
      },
      "source": [
        "<a href=\"https://colab.research.google.com/github/AaravM11/NLP_Research/blob/main/TFIDF_Log_Criticism_ChatGPT.ipynb\" target=\"_parent\"><img src=\"https://colab.research.google.com/assets/colab-badge.svg\" alt=\"Open In Colab\"/></a>"
      ]
    },
    {
      "cell_type": "code",
      "execution_count": null,
      "metadata": {
        "id": "OcePw1MBLJyM"
      },
      "outputs": [],
      "source": [
        "#import packages, data loading\n",
        "\n",
        "import pandas as pd\n",
        "import nltk\n",
        "import re\n",
        "import numpy as np\n",
        "import matplotlib.pyplot as plt\n",
        "import seaborn as sns\n",
        "from sklearn.model_selection import train_test_split\n",
        "import tensorflow as tf\n",
        "from tensorflow.keras.models import Sequential\n",
        "from tensorflow.keras.layers import Dense, Activation\n",
        "from sklearn import preprocessing\n",
        "\n",
        "df = pd.read_csv(\"/content/drive/MyDrive/Sentiment Analysis/chatgpt.csv\")\n",
        "\n",
        "\n",
        "df = df.loc[:, ~df.columns.str.contains('^Unnamed')]"
      ]
    },
    {
      "cell_type": "code",
      "source": [
        "df.head()"
      ],
      "metadata": {
        "colab": {
          "base_uri": "https://localhost:8080/",
          "height": 206
        },
        "id": "5Ka1Did0Ik3k",
        "outputId": "334755c1-7249-468f-b215-6c77ca791f33"
      },
      "execution_count": null,
      "outputs": [
        {
          "output_type": "execute_result",
          "data": {
            "text/plain": [
              "                                              tweets   labels\n",
              "0  ChatGPT: Optimizing Language Models for Dialog...  neutral\n",
              "1  Try talking with ChatGPT, our new AI system wh...     good\n",
              "2  ChatGPT: Optimizing Language Models for Dialog...  neutral\n",
              "3  THRILLED to share that ChatGPT, our new model ...     good\n",
              "4  As of 2 minutes ago, @OpenAI released their ne...      bad"
            ],
            "text/html": [
              "\n",
              "  <div id=\"df-5384d712-8c31-48ed-b83b-a899960666a3\" class=\"colab-df-container\">\n",
              "    <div>\n",
              "<style scoped>\n",
              "    .dataframe tbody tr th:only-of-type {\n",
              "        vertical-align: middle;\n",
              "    }\n",
              "\n",
              "    .dataframe tbody tr th {\n",
              "        vertical-align: top;\n",
              "    }\n",
              "\n",
              "    .dataframe thead th {\n",
              "        text-align: right;\n",
              "    }\n",
              "</style>\n",
              "<table border=\"1\" class=\"dataframe\">\n",
              "  <thead>\n",
              "    <tr style=\"text-align: right;\">\n",
              "      <th></th>\n",
              "      <th>tweets</th>\n",
              "      <th>labels</th>\n",
              "    </tr>\n",
              "  </thead>\n",
              "  <tbody>\n",
              "    <tr>\n",
              "      <th>0</th>\n",
              "      <td>ChatGPT: Optimizing Language Models for Dialog...</td>\n",
              "      <td>neutral</td>\n",
              "    </tr>\n",
              "    <tr>\n",
              "      <th>1</th>\n",
              "      <td>Try talking with ChatGPT, our new AI system wh...</td>\n",
              "      <td>good</td>\n",
              "    </tr>\n",
              "    <tr>\n",
              "      <th>2</th>\n",
              "      <td>ChatGPT: Optimizing Language Models for Dialog...</td>\n",
              "      <td>neutral</td>\n",
              "    </tr>\n",
              "    <tr>\n",
              "      <th>3</th>\n",
              "      <td>THRILLED to share that ChatGPT, our new model ...</td>\n",
              "      <td>good</td>\n",
              "    </tr>\n",
              "    <tr>\n",
              "      <th>4</th>\n",
              "      <td>As of 2 minutes ago, @OpenAI released their ne...</td>\n",
              "      <td>bad</td>\n",
              "    </tr>\n",
              "  </tbody>\n",
              "</table>\n",
              "</div>\n",
              "    <div class=\"colab-df-buttons\">\n",
              "\n",
              "  <div class=\"colab-df-container\">\n",
              "    <button class=\"colab-df-convert\" onclick=\"convertToInteractive('df-5384d712-8c31-48ed-b83b-a899960666a3')\"\n",
              "            title=\"Convert this dataframe to an interactive table.\"\n",
              "            style=\"display:none;\">\n",
              "\n",
              "  <svg xmlns=\"http://www.w3.org/2000/svg\" height=\"24px\" viewBox=\"0 -960 960 960\">\n",
              "    <path d=\"M120-120v-720h720v720H120Zm60-500h600v-160H180v160Zm220 220h160v-160H400v160Zm0 220h160v-160H400v160ZM180-400h160v-160H180v160Zm440 0h160v-160H620v160ZM180-180h160v-160H180v160Zm440 0h160v-160H620v160Z\"/>\n",
              "  </svg>\n",
              "    </button>\n",
              "\n",
              "  <style>\n",
              "    .colab-df-container {\n",
              "      display:flex;\n",
              "      gap: 12px;\n",
              "    }\n",
              "\n",
              "    .colab-df-convert {\n",
              "      background-color: #E8F0FE;\n",
              "      border: none;\n",
              "      border-radius: 50%;\n",
              "      cursor: pointer;\n",
              "      display: none;\n",
              "      fill: #1967D2;\n",
              "      height: 32px;\n",
              "      padding: 0 0 0 0;\n",
              "      width: 32px;\n",
              "    }\n",
              "\n",
              "    .colab-df-convert:hover {\n",
              "      background-color: #E2EBFA;\n",
              "      box-shadow: 0px 1px 2px rgba(60, 64, 67, 0.3), 0px 1px 3px 1px rgba(60, 64, 67, 0.15);\n",
              "      fill: #174EA6;\n",
              "    }\n",
              "\n",
              "    .colab-df-buttons div {\n",
              "      margin-bottom: 4px;\n",
              "    }\n",
              "\n",
              "    [theme=dark] .colab-df-convert {\n",
              "      background-color: #3B4455;\n",
              "      fill: #D2E3FC;\n",
              "    }\n",
              "\n",
              "    [theme=dark] .colab-df-convert:hover {\n",
              "      background-color: #434B5C;\n",
              "      box-shadow: 0px 1px 3px 1px rgba(0, 0, 0, 0.15);\n",
              "      filter: drop-shadow(0px 1px 2px rgba(0, 0, 0, 0.3));\n",
              "      fill: #FFFFFF;\n",
              "    }\n",
              "  </style>\n",
              "\n",
              "    <script>\n",
              "      const buttonEl =\n",
              "        document.querySelector('#df-5384d712-8c31-48ed-b83b-a899960666a3 button.colab-df-convert');\n",
              "      buttonEl.style.display =\n",
              "        google.colab.kernel.accessAllowed ? 'block' : 'none';\n",
              "\n",
              "      async function convertToInteractive(key) {\n",
              "        const element = document.querySelector('#df-5384d712-8c31-48ed-b83b-a899960666a3');\n",
              "        const dataTable =\n",
              "          await google.colab.kernel.invokeFunction('convertToInteractive',\n",
              "                                                    [key], {});\n",
              "        if (!dataTable) return;\n",
              "\n",
              "        const docLinkHtml = 'Like what you see? Visit the ' +\n",
              "          '<a target=\"_blank\" href=https://colab.research.google.com/notebooks/data_table.ipynb>data table notebook</a>'\n",
              "          + ' to learn more about interactive tables.';\n",
              "        element.innerHTML = '';\n",
              "        dataTable['output_type'] = 'display_data';\n",
              "        await google.colab.output.renderOutput(dataTable, element);\n",
              "        const docLink = document.createElement('div');\n",
              "        docLink.innerHTML = docLinkHtml;\n",
              "        element.appendChild(docLink);\n",
              "      }\n",
              "    </script>\n",
              "  </div>\n",
              "\n",
              "\n",
              "<div id=\"df-0210acfb-a2f2-4142-b4d9-533db75f6c92\">\n",
              "  <button class=\"colab-df-quickchart\" onclick=\"quickchart('df-0210acfb-a2f2-4142-b4d9-533db75f6c92')\"\n",
              "            title=\"Suggest charts.\"\n",
              "            style=\"display:none;\">\n",
              "\n",
              "<svg xmlns=\"http://www.w3.org/2000/svg\" height=\"24px\"viewBox=\"0 0 24 24\"\n",
              "     width=\"24px\">\n",
              "    <g>\n",
              "        <path d=\"M19 3H5c-1.1 0-2 .9-2 2v14c0 1.1.9 2 2 2h14c1.1 0 2-.9 2-2V5c0-1.1-.9-2-2-2zM9 17H7v-7h2v7zm4 0h-2V7h2v10zm4 0h-2v-4h2v4z\"/>\n",
              "    </g>\n",
              "</svg>\n",
              "  </button>\n",
              "\n",
              "<style>\n",
              "  .colab-df-quickchart {\n",
              "    background-color: #E8F0FE;\n",
              "    border: none;\n",
              "    border-radius: 50%;\n",
              "    cursor: pointer;\n",
              "    display: none;\n",
              "    fill: #1967D2;\n",
              "    height: 32px;\n",
              "    padding: 0 0 0 0;\n",
              "    width: 32px;\n",
              "  }\n",
              "\n",
              "  .colab-df-quickchart:hover {\n",
              "    background-color: #E2EBFA;\n",
              "    box-shadow: 0px 1px 2px rgba(60, 64, 67, 0.3), 0px 1px 3px 1px rgba(60, 64, 67, 0.15);\n",
              "    fill: #174EA6;\n",
              "  }\n",
              "\n",
              "  [theme=dark] .colab-df-quickchart {\n",
              "    background-color: #3B4455;\n",
              "    fill: #D2E3FC;\n",
              "  }\n",
              "\n",
              "  [theme=dark] .colab-df-quickchart:hover {\n",
              "    background-color: #434B5C;\n",
              "    box-shadow: 0px 1px 3px 1px rgba(0, 0, 0, 0.15);\n",
              "    filter: drop-shadow(0px 1px 2px rgba(0, 0, 0, 0.3));\n",
              "    fill: #FFFFFF;\n",
              "  }\n",
              "</style>\n",
              "\n",
              "  <script>\n",
              "    async function quickchart(key) {\n",
              "      const charts = await google.colab.kernel.invokeFunction(\n",
              "          'suggestCharts', [key], {});\n",
              "    }\n",
              "    (() => {\n",
              "      let quickchartButtonEl =\n",
              "        document.querySelector('#df-0210acfb-a2f2-4142-b4d9-533db75f6c92 button');\n",
              "      quickchartButtonEl.style.display =\n",
              "        google.colab.kernel.accessAllowed ? 'block' : 'none';\n",
              "    })();\n",
              "  </script>\n",
              "</div>\n",
              "    </div>\n",
              "  </div>\n"
            ]
          },
          "metadata": {},
          "execution_count": 2
        }
      ]
    },
    {
      "cell_type": "code",
      "execution_count": null,
      "metadata": {
        "id": "7g5Vg1oSLSyW"
      },
      "outputs": [],
      "source": [
        "# clean the tweets\n",
        "\n",
        "tweets = df[\"tweets\"].values\n",
        "cleaned_tweets = []\n",
        "\n",
        "import re\n",
        "\n",
        "for tweet in tweets:\n",
        "  tweet2 = re.sub(r'^RT[\\s]+', '', tweet)\n",
        "  tweet2 = re.sub('http://\\S+|https://\\S+', '', tweet2)\n",
        "  tweet2 = re.sub('http[s]?://\\S+', '', tweet2)\n",
        "  tweet2 = re.sub(r\"http\\S+\", \"\", tweet2)\n",
        "  tweet2 = re.sub(r'#', '', tweet2)\n",
        "  cleaned_tweets.append(tweet2)\n",
        "\n",
        "for i in range(len(tweets)):\n",
        "  tweets[i] = cleaned_tweets[i]\n",
        "\n",
        "original_tweets = tweets\n"
      ]
    },
    {
      "cell_type": "code",
      "execution_count": null,
      "metadata": {
        "id": "6cBJubnyLVRf"
      },
      "outputs": [],
      "source": [
        "# initialize criticism phrases\n",
        "\n",
        "criticism_phrases = [\n",
        "    \"Not convinced by\",\n",
        "    \"Vulnerable to criticism\",\n",
        "    \"Disapprove of\",\n",
        "    \"Take a critical stance on\",\n",
        "    \"Not impressed\",\n",
        "    \"Meh\",\n",
        "    \"Disappointed\",\n",
        "    \"Not cool\",\n",
        "    \"Not buying it\",\n",
        "    \"Seriously?\",\n",
        "    \"Not okay\",\n",
        "    \"Kinda sketchy\",\n",
        "    \"Raise an eyebrow\",\n",
        "    \"Not feeling it\",\n",
        "    \"Not a fan\",\n",
        "    \"Eh, nope\",\n",
        "    \"Bit of a letdown\",\n",
        "    \"Questionable move\",\n",
        "    \"Hmm, doubtful\",\n",
        "    \"Skeptical about\",\n",
        "    \"Lacking substance\",\n",
        "    \"Seems off\",\n",
        "    \"Could do better\",\n",
        "    \"Expected more\",\n",
        "    \"Unimpressive\",\n",
        "    \"Flimsy excuse\",\n",
        "    \"Not quite there\",\n",
        "    \"Bit underwhelming\",\n",
        "    \"Not sold on this\",\n",
        "    \"Seems fishy\",\n",
        "    \"Missed the mark\",\n",
        "    \"Not vibing with\",\n",
        "    \"Bit of a fail\",\n",
        "    \"Didn't hit home\",\n",
        "    \"However\",\n",
        "    \"Unfortunately\",\n",
        "    \"Flaw\",\n",
        "    \"Issue\",\n",
        "    \"Problematic\",\n",
        "    \"Concerning\",\n",
        "    \"Inadequate\",\n",
        "    \"Lack\",\n",
        "    \"Mistake\",\n",
        "    \"Weakness\",\n",
        "    \"Failure\",\n",
        "    \"Shortcoming\",\n",
        "    \"Not up to par\",\n",
        "    \"Falls short\",\n",
        "    \"Disappointing\",\n",
        "    \"Unsatisfactory\",\n",
        "    \"Fault\",\n",
        "    \"Critique\",\n",
        "    \"Condemn\",\n",
        "    \"Object\",\n",
        "    \"Dissatisfying\",\n",
        "    \"Underwhelming\",\n",
        "    \"Not well-executed\",\n",
        "    \"Questionable\",\n",
        "    \"Criticize\",\n",
        "    \"Challenge\",\n",
        "    \"Rebuke\",\n",
        "    \"Negative aspect\",\n",
        "    \"Drawback\",\n",
        "    \"Debatable\",\n",
        "    \"Criticism\",\n",
        "    \"Censure\",\n",
        "    \"Knock\",\n",
        "    \"Denounce\",\n",
        "    \"Faultfinding\",\n",
        "    \"Reprove\",\n",
        "    \"Upbraiding\",\n",
        "    \"Reprimand\",\n",
        "    \"Blame\",\n",
        "    \"Reproach\",\n",
        "    \"Chide\",\n",
        "    \"Attack\",\n",
        "    \"Nitpick\",\n",
        "    \"Find fault with\",\n",
        "    \"Take issue with\",\n",
        "    \"Object to\",\n",
        "    \"Complain about\",\n",
        "    \"Berate\",\n",
        "    \"Castigate\",\n",
        "    \"Decry\"\n",
        "]"
      ]
    },
    {
      "cell_type": "code",
      "execution_count": null,
      "metadata": {
        "colab": {
          "base_uri": "https://localhost:8080/"
        },
        "id": "VCSA26HYLdQC",
        "outputId": "75ef55c7-4686-40ab-89cf-e9581ceea487"
      },
      "outputs": [
        {
          "output_type": "execute_result",
          "data": {
            "text/plain": [
              "array([None, None, None, ..., None, None, None], dtype=object)"
            ]
          },
          "metadata": {},
          "execution_count": 5
        }
      ],
      "source": [
        "# empty criticism labels array\n",
        "\n",
        "criticism_labels = np.empty(df.shape[0], dtype=object)\n",
        "criticism_labels\n"
      ]
    },
    {
      "cell_type": "code",
      "execution_count": null,
      "metadata": {
        "colab": {
          "base_uri": "https://localhost:8080/"
        },
        "id": "_GJ2mPRVLg2I",
        "outputId": "54393e0f-8bc7-43e0-90b5-2504da5eea9d"
      },
      "outputs": [
        {
          "output_type": "stream",
          "name": "stderr",
          "text": [
            "[nltk_data] Downloading package punkt to /root/nltk_data...\n",
            "[nltk_data]   Package punkt is already up-to-date!\n"
          ]
        }
      ],
      "source": [
        "# tokenizing all the samples\n",
        "\n",
        "import nltk\n",
        "nltk.download('punkt')\n",
        "from nltk.tokenize import word_tokenize\n",
        "\n",
        "for i in range(len(tweets)):\n",
        "  tweets[i] = word_tokenize(tweets[i])"
      ]
    },
    {
      "cell_type": "code",
      "execution_count": null,
      "metadata": {
        "colab": {
          "base_uri": "https://localhost:8080/"
        },
        "id": "OccITK5WXv1O",
        "outputId": "41bcc9c5-a4a2-4d90-e835-5c5a0e4707b9"
      },
      "outputs": [
        {
          "output_type": "stream",
          "name": "stdout",
          "text": [
            "Not convinced by\n"
          ]
        }
      ],
      "source": [
        "print(criticism_phrases[0])"
      ]
    },
    {
      "cell_type": "code",
      "execution_count": null,
      "metadata": {
        "colab": {
          "base_uri": "https://localhost:8080/"
        },
        "id": "QTRqAPFzNo89",
        "outputId": "030df3d4-41fe-4307-d99a-e721867f226a"
      },
      "outputs": [
        {
          "output_type": "execute_result",
          "data": {
            "text/plain": [
              "[['Not', 'convinced', 'by'],\n",
              " ['Vulnerable', 'to', 'criticism'],\n",
              " ['Disapprove', 'of'],\n",
              " ['Take', 'a', 'critical', 'stance', 'on'],\n",
              " ['Not', 'impressed'],\n",
              " ['Meh'],\n",
              " ['Disappointed'],\n",
              " ['Not', 'cool'],\n",
              " ['Not', 'buying', 'it'],\n",
              " ['Seriously', '?'],\n",
              " ['Not', 'okay'],\n",
              " ['Kinda', 'sketchy'],\n",
              " ['Raise', 'an', 'eyebrow'],\n",
              " ['Not', 'feeling', 'it'],\n",
              " ['Not', 'a', 'fan'],\n",
              " ['Eh', ',', 'nope'],\n",
              " ['Bit', 'of', 'a', 'letdown'],\n",
              " ['Questionable', 'move'],\n",
              " ['Hmm', ',', 'doubtful'],\n",
              " ['Skeptical', 'about'],\n",
              " ['Lacking', 'substance'],\n",
              " ['Seems', 'off'],\n",
              " ['Could', 'do', 'better'],\n",
              " ['Expected', 'more'],\n",
              " ['Unimpressive'],\n",
              " ['Flimsy', 'excuse'],\n",
              " ['Not', 'quite', 'there'],\n",
              " ['Bit', 'underwhelming'],\n",
              " ['Not', 'sold', 'on', 'this'],\n",
              " ['Seems', 'fishy'],\n",
              " ['Missed', 'the', 'mark'],\n",
              " ['Not', 'vibing', 'with'],\n",
              " ['Bit', 'of', 'a', 'fail'],\n",
              " ['Did', \"n't\", 'hit', 'home'],\n",
              " ['However'],\n",
              " ['Unfortunately'],\n",
              " ['Flaw'],\n",
              " ['Issue'],\n",
              " ['Problematic'],\n",
              " ['Concerning'],\n",
              " ['Inadequate'],\n",
              " ['Lack'],\n",
              " ['Mistake'],\n",
              " ['Weakness'],\n",
              " ['Failure'],\n",
              " ['Shortcoming'],\n",
              " ['Not', 'up', 'to', 'par'],\n",
              " ['Falls', 'short'],\n",
              " ['Disappointing'],\n",
              " ['Unsatisfactory'],\n",
              " ['Fault'],\n",
              " ['Critique'],\n",
              " ['Condemn'],\n",
              " ['Object'],\n",
              " ['Dissatisfying'],\n",
              " ['Underwhelming'],\n",
              " ['Not', 'well-executed'],\n",
              " ['Questionable'],\n",
              " ['Criticize'],\n",
              " ['Challenge'],\n",
              " ['Rebuke'],\n",
              " ['Negative', 'aspect'],\n",
              " ['Drawback'],\n",
              " ['Debatable'],\n",
              " ['Criticism'],\n",
              " ['Censure'],\n",
              " ['Knock'],\n",
              " ['Denounce'],\n",
              " ['Faultfinding'],\n",
              " ['Reprove'],\n",
              " ['Upbraiding'],\n",
              " ['Reprimand'],\n",
              " ['Blame'],\n",
              " ['Reproach'],\n",
              " ['Chide'],\n",
              " ['Attack'],\n",
              " ['Nitpick'],\n",
              " ['Find', 'fault', 'with'],\n",
              " ['Take', 'issue', 'with'],\n",
              " ['Object', 'to'],\n",
              " ['Complain', 'about'],\n",
              " ['Berate'],\n",
              " ['Castigate'],\n",
              " ['Decry']]"
            ]
          },
          "metadata": {},
          "execution_count": 8
        }
      ],
      "source": [
        "# tokenizing all the of the criticism phrases\n",
        "\n",
        "for i in range(len(criticism_phrases)):\n",
        "  criticism_phrases[i] = word_tokenize(criticism_phrases[i])\n",
        "\n",
        "\n",
        "criticism_phrases"
      ]
    },
    {
      "cell_type": "code",
      "execution_count": null,
      "metadata": {
        "id": "wrcT2vbKN_tM"
      },
      "outputs": [],
      "source": [
        "# stemming criticism phrases\n",
        "\n",
        "from nltk.stem import PorterStemmer\n",
        "\n",
        "stemmer = PorterStemmer()\n",
        "\n",
        "stemmed_tweets = []\n",
        "for tweet in criticism_phrases:\n",
        "  stemmed_tweet = []\n",
        "  for word in tweet:\n",
        "    new_word = stemmer.stem(word)\n",
        "    stemmed_tweet.append(new_word)\n",
        "  stemmed_tweets.append(stemmed_tweet)\n",
        "\n",
        "for i in range(len(criticism_phrases)):\n",
        "  criticism_phrases[i] = stemmed_tweets[i]"
      ]
    },
    {
      "cell_type": "code",
      "execution_count": null,
      "metadata": {
        "id": "_iWxqp8PLnSE"
      },
      "outputs": [],
      "source": [
        "# stemming all the samples\n",
        "\n",
        "from nltk.stem import PorterStemmer\n",
        "\n",
        "stemmer = PorterStemmer()\n",
        "\n",
        "stemmed_tweets = []\n",
        "for tweet in tweets:\n",
        "  stemmed_tweet = []\n",
        "  for word in tweet:\n",
        "    new_word = stemmer.stem(word)\n",
        "    stemmed_tweet.append(new_word)\n",
        "  stemmed_tweets.append(stemmed_tweet)\n",
        "\n",
        "for i in range(len(tweets)):\n",
        "  tweets[i] = stemmed_tweets[i]"
      ]
    },
    {
      "cell_type": "code",
      "execution_count": null,
      "metadata": {
        "colab": {
          "base_uri": "https://localhost:8080/"
        },
        "id": "47VNubrDX69d",
        "outputId": "68fbc7c8-008b-4024-f69c-48cd1c09dd20"
      },
      "outputs": [
        {
          "output_type": "stream",
          "name": "stdout",
          "text": [
            "[list(['chatgpt', ':', 'optim', 'languag', 'model', 'for', 'dialogu', '@', 'openai'])\n",
            " list(['tri', 'talk', 'with', 'chatgpt', ',', 'our', 'new', 'ai', 'system', 'which', 'is', 'optim', 'for', 'dialogu', '.', 'your', 'feedback', 'will', 'help', 'us', 'improv', 'it', '.'])\n",
            " list(['chatgpt', ':', 'optim', 'languag', 'model', 'for', 'dialogu', 'ai', 'machinelearn', 'datasci', 'artificialintelligence\\\\n\\\\ntrend', 'ai/ml', 'articl', 'identifi', '&', 'amp', ';', 'digest', 'via', 'granola', ';', 'a', 'machine-driven', 'rss', 'bot', 'by', 'ramsey', 'elbash'])\n",
            " ...\n",
            " list(['chatgpt', 'is', 'be', 'disassembl', 'until', 'it', 'can', 'onli', 'dissembl'])\n",
            " list(['2023', 'predict', 'by', 'chatgpt', '.', 'noth', 'realli', 'specif', ',', 'just', 'some', 'trend', 'from', 'the', 'past', 'year', '.', '\\\\nshould', 'be', 'around', 'thi', 'topic', ',', 'we', 'will', 'see', 'in', '364', 'day', '🎉'])\n",
            " list(['from', 'chatgpt', ',', 'neat', 'stuff'])]\n",
            "[['not', 'convinc', 'by'], ['vulner', 'to', 'critic'], ['disapprov', 'of'], ['take', 'a', 'critic', 'stanc', 'on'], ['not', 'impress'], ['meh'], ['disappoint'], ['not', 'cool'], ['not', 'buy', 'it'], ['serious', '?'], ['not', 'okay'], ['kinda', 'sketchi'], ['rais', 'an', 'eyebrow'], ['not', 'feel', 'it'], ['not', 'a', 'fan'], ['eh', ',', 'nope'], ['bit', 'of', 'a', 'letdown'], ['question', 'move'], ['hmm', ',', 'doubt'], ['skeptic', 'about'], ['lack', 'substanc'], ['seem', 'off'], ['could', 'do', 'better'], ['expect', 'more'], ['unimpress'], ['flimsi', 'excus'], ['not', 'quit', 'there'], ['bit', 'underwhelm'], ['not', 'sold', 'on', 'thi'], ['seem', 'fishi'], ['miss', 'the', 'mark'], ['not', 'vibe', 'with'], ['bit', 'of', 'a', 'fail'], ['did', \"n't\", 'hit', 'home'], ['howev'], ['unfortun'], ['flaw'], ['issu'], ['problemat'], ['concern'], ['inadequ'], ['lack'], ['mistak'], ['weak'], ['failur'], ['shortcom'], ['not', 'up', 'to', 'par'], ['fall', 'short'], ['disappoint'], ['unsatisfactori'], ['fault'], ['critiqu'], ['condemn'], ['object'], ['dissatisfi'], ['underwhelm'], ['not', 'well-execut'], ['question'], ['critic'], ['challeng'], ['rebuk'], ['neg', 'aspect'], ['drawback'], ['debat'], ['critic'], ['censur'], ['knock'], ['denounc'], ['faultfind'], ['reprov'], ['upbraid'], ['reprimand'], ['blame'], ['reproach'], ['chide'], ['attack'], ['nitpick'], ['find', 'fault', 'with'], ['take', 'issu', 'with'], ['object', 'to'], ['complain', 'about'], ['berat'], ['castig'], ['decri']]\n"
          ]
        }
      ],
      "source": [
        "print(tweets)\n",
        "print(criticism_phrases)"
      ]
    },
    {
      "cell_type": "code",
      "execution_count": null,
      "metadata": {
        "id": "8fwpFHxlM76c"
      },
      "outputs": [],
      "source": [
        "# detokenizing all the samples\n",
        "\n",
        "from nltk.tokenize.treebank import TreebankWordDetokenizer\n",
        "\n",
        "detokenizer = TreebankWordDetokenizer()\n",
        "\n",
        "for i in range(len(tweets)):\n",
        "  tweets[i] = detokenizer.detokenize(tweets[i])"
      ]
    },
    {
      "cell_type": "code",
      "execution_count": null,
      "metadata": {
        "id": "4AeYJzBNO3XJ"
      },
      "outputs": [],
      "source": [
        "# detokenizing all the criticism phrases\n",
        "\n",
        "for i in range(len(criticism_phrases)):\n",
        "  criticism_phrases[i] = detokenizer.detokenize(criticism_phrases[i])"
      ]
    },
    {
      "cell_type": "code",
      "execution_count": null,
      "metadata": {
        "colab": {
          "base_uri": "https://localhost:8080/"
        },
        "id": "aktqbjyWYbVE",
        "outputId": "8490e8b4-d590-4687-f266-e3aa4911693a"
      },
      "outputs": [
        {
          "output_type": "stream",
          "name": "stdout",
          "text": [
            "['chatgpt: optim languag model for dialogu @ openai'\n",
            " 'tri talk with chatgpt, our new ai system which is optim for dialogu . your feedback will help us improv it.'\n",
            " 'chatgpt: optim languag model for dialogu ai machinelearn datasci artificialintelligence\\\\n\\\\ntrend ai/ml articl identifi & amp; digest via granola; a machine-driven rss bot by ramsey elbash'\n",
            " ... 'chatgpt is be disassembl until it can onli dissembl'\n",
            " '2023 predict by chatgpt . noth realli specif, just some trend from the past year . \\\\nshould be around thi topic, we will see in 364 day 🎉'\n",
            " 'from chatgpt, neat stuff']\n",
            "['not convinc by', 'vulner to critic', 'disapprov of', 'take a critic stanc on', 'not impress', 'meh', 'disappoint', 'not cool', 'not buy it', 'serious?', 'not okay', 'kinda sketchi', 'rais an eyebrow', 'not feel it', 'not a fan', 'eh, nope', 'bit of a letdown', 'question move', 'hmm, doubt', 'skeptic about', 'lack substanc', 'seem off', 'could do better', 'expect more', 'unimpress', 'flimsi excus', 'not quit there', 'bit underwhelm', 'not sold on thi', 'seem fishi', 'miss the mark', 'not vibe with', 'bit of a fail', \"didn't hit home\", 'howev', 'unfortun', 'flaw', 'issu', 'problemat', 'concern', 'inadequ', 'lack', 'mistak', 'weak', 'failur', 'shortcom', 'not up to par', 'fall short', 'disappoint', 'unsatisfactori', 'fault', 'critiqu', 'condemn', 'object', 'dissatisfi', 'underwhelm', 'not well-execut', 'question', 'critic', 'challeng', 'rebuk', 'neg aspect', 'drawback', 'debat', 'critic', 'censur', 'knock', 'denounc', 'faultfind', 'reprov', 'upbraid', 'reprimand', 'blame', 'reproach', 'chide', 'attack', 'nitpick', 'find fault with', 'take issu with', 'object to', 'complain about', 'berat', 'castig', 'decri']\n"
          ]
        }
      ],
      "source": [
        "print(tweets)\n",
        "print(criticism_phrases)"
      ]
    },
    {
      "cell_type": "code",
      "execution_count": null,
      "metadata": {
        "colab": {
          "base_uri": "https://localhost:8080/"
        },
        "id": "P1t2iu2tLfN8",
        "outputId": "3ced6d1c-e9e5-459c-8b02-692bc2f8e5f2"
      },
      "outputs": [
        {
          "output_type": "stream",
          "name": "stdout",
          "text": [
            "219294\n"
          ]
        }
      ],
      "source": [
        "# initializing criticism array labels\n",
        "\n",
        "new_criticism_labels = []\n",
        "\n",
        "for i in range(len(criticism_labels)):\n",
        "    found = False\n",
        "\n",
        "    for phrase in criticism_phrases:\n",
        "        if phrase in tweets[i]:\n",
        "            new_criticism_labels.append(1)\n",
        "            found = True\n",
        "            break\n",
        "\n",
        "    if not found:\n",
        "        new_criticism_labels.append(0)\n",
        "criticism_labels = new_criticism_labels\n",
        "\n",
        "print(len(criticism_labels))"
      ]
    },
    {
      "cell_type": "code",
      "execution_count": null,
      "metadata": {
        "colab": {
          "base_uri": "https://localhost:8080/"
        },
        "id": "ycfiS1B_ZPbd",
        "outputId": "8cf3819e-611c-4dcf-d124-2296cbff35a6"
      },
      "outputs": [
        {
          "output_type": "stream",
          "name": "stdout",
          "text": [
            "219294\n"
          ]
        }
      ],
      "source": [
        "print(len(criticism_labels))"
      ]
    },
    {
      "cell_type": "markdown",
      "metadata": {
        "id": "uoOFXlvnPdrO"
      },
      "source": [
        "[link text](`https://`)"
      ]
    },
    {
      "cell_type": "code",
      "execution_count": null,
      "metadata": {
        "id": "lpLQ5DNMPeQM"
      },
      "outputs": [],
      "source": [
        "tweets = original_tweets"
      ]
    },
    {
      "cell_type": "code",
      "execution_count": null,
      "metadata": {
        "colab": {
          "base_uri": "https://localhost:8080/"
        },
        "id": "iW_jA0T9Phrw",
        "outputId": "fa4cc55d-01f0-4699-d709-c95ffa687e6d"
      },
      "outputs": [
        {
          "output_type": "stream",
          "name": "stderr",
          "text": [
            "[nltk_data] Downloading package punkt to /root/nltk_data...\n",
            "[nltk_data]   Package punkt is already up-to-date!\n"
          ]
        }
      ],
      "source": [
        "# tokenizing all the samples\n",
        "\n",
        "import nltk\n",
        "nltk.download('punkt')\n",
        "from nltk.tokenize import word_tokenize\n",
        "\n",
        "for i in range(len(tweets)):\n",
        "  tweets[i] = word_tokenize(tweets[i])"
      ]
    },
    {
      "cell_type": "code",
      "execution_count": null,
      "metadata": {
        "colab": {
          "base_uri": "https://localhost:8080/"
        },
        "id": "lGDQIsXrLiPa",
        "outputId": "edfc68af-062a-4e6e-9395-68669059e66c"
      },
      "outputs": [
        {
          "output_type": "stream",
          "name": "stderr",
          "text": [
            "[nltk_data] Downloading package stopwords to /root/nltk_data...\n",
            "[nltk_data]   Package stopwords is already up-to-date!\n"
          ]
        }
      ],
      "source": [
        "# importing stopwords\n",
        "\n",
        "nltk.download(\"stopwords\")\n",
        "from nltk.corpus import stopwords\n",
        "import string"
      ]
    },
    {
      "cell_type": "code",
      "execution_count": null,
      "metadata": {
        "colab": {
          "base_uri": "https://localhost:8080/"
        },
        "id": "3iwL0d21LjuN",
        "outputId": "a3307f80-abdc-411b-b2f7-ab927cb6304a"
      },
      "outputs": [
        {
          "output_type": "stream",
          "name": "stdout",
          "text": [
            "{'over', 'doesn', 'she', \"couldn't\", 'my', 'what', 'wasn', 'the', 'he', 'between', \"mustn't\", 've', 'from', 'ma', 'yourself', 'herself', 'o', 'had', 'when', 'both', 'same', \"didn't\", 'them', 'were', 'but', 'needn', \"weren't\", 'myself', \"aren't\", 'mightn', 'they', \"she's\", 'do', 'm', 'other', 'did', 'at', 'isn', 'below', 'few', 'for', 'to', \"should've\", 'or', 'y', 'wouldn', 'that', 'with', 'aren', 'me', 'until', 'under', 'is', 'why', 'its', 's', 'any', 'mustn', 'our', 'ours', 'her', 'nor', 'be', 'don', 'here', 'whom', 'just', 'how', 'his', 'being', 'during', 'as', 'won', 'no', 'while', 'doing', 'those', 'himself', 'than', 'if', 'a', 'some', 'more', 'am', 'having', 'there', 'such', \"you'd\", 'once', 'you', 'does', \"wouldn't\", 'after', 'where', \"shan't\", 'it', 'been', 'haven', \"you're\", 'was', 'through', 'their', 'because', 'd', 'has', \"haven't\", 'weren', 'theirs', 'each', 'about', 'in', 'then', 'itself', \"you've\", 'i', \"it's\", 'which', 'll', 'him', 'are', 'will', 'we', 'have', 'ain', 'now', 'yourselves', 'should', 'this', 'themselves', \"won't\", \"don't\", \"hasn't\", 'hers', \"that'll\", 'not', 'an', 'and', \"shouldn't\", 'above', 'can', \"needn't\", 'didn', 'into', 'further', 'hasn', 'before', 'very', 'up', 'who', 'shan', 'most', 'of', 'too', 'out', 'down', 're', 'couldn', 'shouldn', 'against', 'own', 'so', 'ourselves', \"isn't\", 'hadn', \"doesn't\", 'only', 'by', 'again', \"wasn't\", \"mightn't\", 'on', 'all', 'these', 't', \"you'll\", 'off', 'your', \"hadn't\", 'yours'}\n"
          ]
        }
      ],
      "source": [
        "# removing stop words\n",
        "\n",
        "stop = set(stopwords.words('english'))\n",
        "print(stop)\n",
        "new_tweets = tweets\n",
        "new_tweets2 = []\n",
        "for tweet in new_tweets:\n",
        "  new_tweet = []\n",
        "  for word in tweet:\n",
        "    if (word not in stop and word not in string.punctuation):\n",
        "      new_tweet.append(word)\n",
        "  new_tweets2.append(new_tweet)\n",
        "\n",
        "\n",
        "for i in range(len(tweets)):\n",
        "  tweets[i] = new_tweets2[i]\n"
      ]
    },
    {
      "cell_type": "code",
      "execution_count": null,
      "metadata": {
        "id": "sGg_ThxDPlPp"
      },
      "outputs": [],
      "source": [
        "# stemming all the samples\n",
        "\n",
        "from nltk.stem import PorterStemmer\n",
        "\n",
        "stemmer = PorterStemmer()\n",
        "\n",
        "stemmed_tweets = []\n",
        "for tweet in tweets:\n",
        "  stemmed_tweet = []\n",
        "  for word in tweet:\n",
        "    new_word = stemmer.stem(word)\n",
        "    stemmed_tweet.append(new_word)\n",
        "  stemmed_tweets.append(stemmed_tweet)\n",
        "\n",
        "for i in range(len(tweets)):\n",
        "  tweets[i] = stemmed_tweets[i]"
      ]
    },
    {
      "cell_type": "code",
      "execution_count": null,
      "metadata": {
        "colab": {
          "base_uri": "https://localhost:8080/"
        },
        "id": "A5bcArosZwkg",
        "outputId": "f6308214-3ac7-43dd-9564-f04fc24d5e19"
      },
      "outputs": [
        {
          "output_type": "stream",
          "name": "stdout",
          "text": [
            "[list(['chatgpt', 'optim', 'languag', 'model', 'dialogu', 'openai'])\n",
            " list(['tri', 'talk', 'chatgpt', 'new', 'ai', 'system', 'optim', 'dialogu', 'feedback', 'help', 'us', 'improv'])\n",
            " list(['chatgpt', 'optim', 'languag', 'model', 'dialogu', 'ai', 'machinelearn', 'datasci', 'artificialintelligence\\\\n\\\\ntrend', 'ai/ml', 'articl', 'identifi', 'amp', 'digest', 'via', 'granola', 'machine-driven', 'rss', 'bot', 'ramsey', 'elbash'])\n",
            " ... list(['chatgpt', 'disassembl', 'onli', 'dissembl'])\n",
            " list(['2023', 'predict', 'chatgpt', 'noth', 'realli', 'specif', 'trend', 'past', 'year', '\\\\nshould', 'around', 'thi', 'topic', 'see', '364', 'day', '🎉'])\n",
            " list(['chatgpt', 'neat', 'stuff'])]\n"
          ]
        }
      ],
      "source": [
        "print(tweets)"
      ]
    },
    {
      "cell_type": "code",
      "execution_count": null,
      "metadata": {
        "id": "VCFg4mx8L9RF"
      },
      "outputs": [],
      "source": [
        "y = criticism_labels\n",
        "y = np.array(y)\n",
        "y = y.reshape(-1, 1)"
      ]
    },
    {
      "cell_type": "code",
      "source": [
        "tweets = np.array(tweets)"
      ],
      "metadata": {
        "id": "ZBYQ6-e5nCYB"
      },
      "execution_count": null,
      "outputs": []
    },
    {
      "cell_type": "code",
      "source": [
        "type(tweets)"
      ],
      "metadata": {
        "colab": {
          "base_uri": "https://localhost:8080/"
        },
        "id": "LGxezjCx5zDD",
        "outputId": "8e58d77b-8d60-4eb4-ab9f-0ae292734e34"
      },
      "execution_count": null,
      "outputs": [
        {
          "output_type": "execute_result",
          "data": {
            "text/plain": [
              "numpy.ndarray"
            ]
          },
          "metadata": {},
          "execution_count": 25
        }
      ]
    },
    {
      "cell_type": "code",
      "source": [
        "from nltk.tokenize.treebank import TreebankWordDetokenizer\n",
        "\n",
        "detokenizer = TreebankWordDetokenizer()\n",
        "\n",
        "for i in range(len(tweets)):\n",
        "  tweets[i] = detokenizer.detokenize(tweets[i])"
      ],
      "metadata": {
        "id": "4Ls1KqXe6Gaa"
      },
      "execution_count": null,
      "outputs": []
    },
    {
      "cell_type": "code",
      "source": [
        "# Import CountVectorizer class.\n",
        "# CountVectorizer converts text data to matrix of token counts.\n",
        "from sklearn.feature_extraction.text import CountVectorizer\n",
        "count_vector = CountVectorizer()\n",
        "\n",
        "# fit_transform() creates dictionary and return term-document matrix.\n",
        "X_counts = count_vector.fit_transform(tweets)\n",
        "\n",
        "# Import TfidfTransformer class.\n",
        "# TfidfTransformer transoforms count matrix to tf-idf representation.\n",
        "from sklearn.feature_extraction.text import TfidfTransformer\n",
        "tfidf_transformer = TfidfTransformer()\n",
        "\n",
        "# fit_transform transforms count matrix to tf-idf representation(vector).\n",
        "X_tfidf = tfidf_transformer.fit_transform(X_counts)"
      ],
      "metadata": {
        "id": "fxWGsd7oj9eb"
      },
      "execution_count": null,
      "outputs": []
    },
    {
      "cell_type": "code",
      "execution_count": null,
      "metadata": {
        "id": "xi7RWzrMMBHL"
      },
      "outputs": [],
      "source": [
        "X_train, X_val, y_train, y_val = train_test_split(X_tfidf,y,test_size = .25, random_state = 4)"
      ]
    },
    {
      "cell_type": "code",
      "source": [
        "from sklearn.linear_model import LogisticRegression"
      ],
      "metadata": {
        "id": "dpqcoONv6zdk"
      },
      "execution_count": null,
      "outputs": []
    },
    {
      "cell_type": "code",
      "source": [
        "y_train = y_train.ravel()\n",
        "y_val = y_val.ravel()"
      ],
      "metadata": {
        "id": "Vwui7XyTUR9j"
      },
      "execution_count": null,
      "outputs": []
    },
    {
      "cell_type": "code",
      "execution_count": null,
      "metadata": {
        "colab": {
          "base_uri": "https://localhost:8080/",
          "height": 218
        },
        "id": "0I64RNBqP6JX",
        "outputId": "1d4ae74a-8603-4034-ad45-21fd797ce136"
      },
      "outputs": [
        {
          "output_type": "stream",
          "name": "stderr",
          "text": [
            "/usr/local/lib/python3.10/dist-packages/sklearn/linear_model/_logistic.py:458: ConvergenceWarning: lbfgs failed to converge (status=1):\n",
            "STOP: TOTAL NO. of ITERATIONS REACHED LIMIT.\n",
            "\n",
            "Increase the number of iterations (max_iter) or scale the data as shown in:\n",
            "    https://scikit-learn.org/stable/modules/preprocessing.html\n",
            "Please also refer to the documentation for alternative solver options:\n",
            "    https://scikit-learn.org/stable/modules/linear_model.html#logistic-regression\n",
            "  n_iter_i = _check_optimize_result(\n"
          ]
        },
        {
          "output_type": "execute_result",
          "data": {
            "text/plain": [
              "LogisticRegression()"
            ],
            "text/html": [
              "<style>#sk-container-id-1 {color: black;background-color: white;}#sk-container-id-1 pre{padding: 0;}#sk-container-id-1 div.sk-toggleable {background-color: white;}#sk-container-id-1 label.sk-toggleable__label {cursor: pointer;display: block;width: 100%;margin-bottom: 0;padding: 0.3em;box-sizing: border-box;text-align: center;}#sk-container-id-1 label.sk-toggleable__label-arrow:before {content: \"▸\";float: left;margin-right: 0.25em;color: #696969;}#sk-container-id-1 label.sk-toggleable__label-arrow:hover:before {color: black;}#sk-container-id-1 div.sk-estimator:hover label.sk-toggleable__label-arrow:before {color: black;}#sk-container-id-1 div.sk-toggleable__content {max-height: 0;max-width: 0;overflow: hidden;text-align: left;background-color: #f0f8ff;}#sk-container-id-1 div.sk-toggleable__content pre {margin: 0.2em;color: black;border-radius: 0.25em;background-color: #f0f8ff;}#sk-container-id-1 input.sk-toggleable__control:checked~div.sk-toggleable__content {max-height: 200px;max-width: 100%;overflow: auto;}#sk-container-id-1 input.sk-toggleable__control:checked~label.sk-toggleable__label-arrow:before {content: \"▾\";}#sk-container-id-1 div.sk-estimator input.sk-toggleable__control:checked~label.sk-toggleable__label {background-color: #d4ebff;}#sk-container-id-1 div.sk-label input.sk-toggleable__control:checked~label.sk-toggleable__label {background-color: #d4ebff;}#sk-container-id-1 input.sk-hidden--visually {border: 0;clip: rect(1px 1px 1px 1px);clip: rect(1px, 1px, 1px, 1px);height: 1px;margin: -1px;overflow: hidden;padding: 0;position: absolute;width: 1px;}#sk-container-id-1 div.sk-estimator {font-family: monospace;background-color: #f0f8ff;border: 1px dotted black;border-radius: 0.25em;box-sizing: border-box;margin-bottom: 0.5em;}#sk-container-id-1 div.sk-estimator:hover {background-color: #d4ebff;}#sk-container-id-1 div.sk-parallel-item::after {content: \"\";width: 100%;border-bottom: 1px solid gray;flex-grow: 1;}#sk-container-id-1 div.sk-label:hover label.sk-toggleable__label {background-color: #d4ebff;}#sk-container-id-1 div.sk-serial::before {content: \"\";position: absolute;border-left: 1px solid gray;box-sizing: border-box;top: 0;bottom: 0;left: 50%;z-index: 0;}#sk-container-id-1 div.sk-serial {display: flex;flex-direction: column;align-items: center;background-color: white;padding-right: 0.2em;padding-left: 0.2em;position: relative;}#sk-container-id-1 div.sk-item {position: relative;z-index: 1;}#sk-container-id-1 div.sk-parallel {display: flex;align-items: stretch;justify-content: center;background-color: white;position: relative;}#sk-container-id-1 div.sk-item::before, #sk-container-id-1 div.sk-parallel-item::before {content: \"\";position: absolute;border-left: 1px solid gray;box-sizing: border-box;top: 0;bottom: 0;left: 50%;z-index: -1;}#sk-container-id-1 div.sk-parallel-item {display: flex;flex-direction: column;z-index: 1;position: relative;background-color: white;}#sk-container-id-1 div.sk-parallel-item:first-child::after {align-self: flex-end;width: 50%;}#sk-container-id-1 div.sk-parallel-item:last-child::after {align-self: flex-start;width: 50%;}#sk-container-id-1 div.sk-parallel-item:only-child::after {width: 0;}#sk-container-id-1 div.sk-dashed-wrapped {border: 1px dashed gray;margin: 0 0.4em 0.5em 0.4em;box-sizing: border-box;padding-bottom: 0.4em;background-color: white;}#sk-container-id-1 div.sk-label label {font-family: monospace;font-weight: bold;display: inline-block;line-height: 1.2em;}#sk-container-id-1 div.sk-label-container {text-align: center;}#sk-container-id-1 div.sk-container {/* jupyter's `normalize.less` sets `[hidden] { display: none; }` but bootstrap.min.css set `[hidden] { display: none !important; }` so we also need the `!important` here to be able to override the default hidden behavior on the sphinx rendered scikit-learn.org. See: https://github.com/scikit-learn/scikit-learn/issues/21755 */display: inline-block !important;position: relative;}#sk-container-id-1 div.sk-text-repr-fallback {display: none;}</style><div id=\"sk-container-id-1\" class=\"sk-top-container\"><div class=\"sk-text-repr-fallback\"><pre>LogisticRegression()</pre><b>In a Jupyter environment, please rerun this cell to show the HTML representation or trust the notebook. <br />On GitHub, the HTML representation is unable to render, please try loading this page with nbviewer.org.</b></div><div class=\"sk-container\" hidden><div class=\"sk-item\"><div class=\"sk-estimator sk-toggleable\"><input class=\"sk-toggleable__control sk-hidden--visually\" id=\"sk-estimator-id-1\" type=\"checkbox\" checked><label for=\"sk-estimator-id-1\" class=\"sk-toggleable__label sk-toggleable__label-arrow\">LogisticRegression</label><div class=\"sk-toggleable__content\"><pre>LogisticRegression()</pre></div></div></div></div></div>"
            ]
          },
          "metadata": {},
          "execution_count": 31
        }
      ],
      "source": [
        "logreg = LogisticRegression()\n",
        "logreg.fit(X_train, y_train)"
      ]
    },
    {
      "cell_type": "code",
      "execution_count": null,
      "metadata": {
        "id": "8oIQ-4B1P7Xv"
      },
      "outputs": [],
      "source": [
        "from sklearn.metrics import classification_report\n",
        "from sklearn.metrics import accuracy_score"
      ]
    },
    {
      "cell_type": "code",
      "source": [
        "y_pred = logreg.predict(X_val)\n",
        "\n",
        "# Calculate accuracy\n",
        "accuracy = accuracy_score(y_val, y_pred)\n",
        "print(f\"Accuracy: {accuracy:.2f}\")"
      ],
      "metadata": {
        "colab": {
          "base_uri": "https://localhost:8080/"
        },
        "id": "hDfpXir_7EPu",
        "outputId": "4fd1c89f-f9e1-4af1-e5fc-83b88ec3cb47"
      },
      "execution_count": null,
      "outputs": [
        {
          "output_type": "stream",
          "name": "stdout",
          "text": [
            "Accuracy: 0.99\n"
          ]
        }
      ]
    },
    {
      "cell_type": "code",
      "source": [
        "print(classification_report(y_val, y_pred))\n",
        "#TFIDF with logistic regression"
      ],
      "metadata": {
        "colab": {
          "base_uri": "https://localhost:8080/"
        },
        "id": "74CRYZyq7RlA",
        "outputId": "eeff18c1-c01f-450f-8bd4-a693fb10eff1"
      },
      "execution_count": null,
      "outputs": [
        {
          "output_type": "stream",
          "name": "stdout",
          "text": [
            "              precision    recall  f1-score   support\n",
            "\n",
            "           0       1.00      0.98      0.99     50819\n",
            "           1       0.83      1.00      0.91      4005\n",
            "\n",
            "    accuracy                           0.99     54824\n",
            "   macro avg       0.92      0.99      0.95     54824\n",
            "weighted avg       0.99      0.99      0.99     54824\n",
            "\n"
          ]
        }
      ]
    },
    {
      "cell_type": "code",
      "source": [
        "from sklearn.metrics import confusion_matrix\n",
        "\n",
        "print(confusion_matrix(y_val, y_pred))\n",
        "\n"
      ],
      "metadata": {
        "colab": {
          "base_uri": "https://localhost:8080/"
        },
        "id": "_XI2Rt6wjzXO",
        "outputId": "3494fa90-4819-4fc5-ef5a-55f690181e89"
      },
      "execution_count": null,
      "outputs": [
        {
          "output_type": "stream",
          "name": "stdout",
          "text": [
            "[[50006     1]\n",
            " [  813  4004]]\n"
          ]
        }
      ]
    },
    {
      "cell_type": "code",
      "source": [
        "conf_matrix = confusion_matrix(y_val, y_pred)\n",
        "\n",
        "# Set up the figure and axes\n",
        "plt.figure(figsize=(6, 6))\n",
        "sns.set(font_scale=1.2)\n",
        "sns.heatmap(conf_matrix, annot=True, fmt=\"d\", cmap=\"Blues\",\n",
        "            xticklabels=[\"Predicted Negative\", \"Predicted Positive\"],\n",
        "            yticklabels=[\"Actual Negative\", \"Actual Positive\"])\n",
        "\n",
        "plt.xlabel(\"Predicted\")\n",
        "plt.ylabel(\"Actual\")\n",
        "plt.title(\"Confusion Matrix (TF-IDF Logistic Regression)\")\n",
        "\n",
        "plt.show()"
      ],
      "metadata": {
        "id": "PWBV1uDxvbPr",
        "colab": {
          "base_uri": "https://localhost:8080/",
          "height": 578
        },
        "outputId": "37b4f168-1125-453d-c48f-8a421334a478"
      },
      "execution_count": null,
      "outputs": [
        {
          "output_type": "display_data",
          "data": {
            "text/plain": [
              "<Figure size 600x600 with 2 Axes>"
            ],
            "image/png": "[encoded data removed]"
          },
          "metadata": {}
        }
      ]
    }
  ],
  "metadata": {
    "colab": {
      "provenance": [],
      "mount_file_id": "1KJT9gfHWGXCzfhd7_N1t2tavq81DMzwi",
      "authorship_tag": "ABX9TyOac4ru2t/VBMxr0OrPmdNM",
      "include_colab_link": true
    },
    "kernelspec": {
      "display_name": "Python 3",
      "name": "python3"
    },
    "language_info": {
      "name": "python"
    }
  },
  "nbformat": 4,
  "nbformat_minor": 0
}